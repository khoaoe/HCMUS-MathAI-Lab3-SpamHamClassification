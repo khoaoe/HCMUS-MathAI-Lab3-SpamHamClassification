{
  "cells": [
    {
      "cell_type": "markdown",
      "metadata": {
        "id": "c2p4uuBsaHNn"
      },
      "source": [
        "# Lab 3 - Phân loại thư rác với Naive Bayes"
      ]
    },
    {
      "cell_type": "markdown",
      "metadata": {
        "id": "P7kBbpD7aHNp"
      },
      "source": [
        "## Thông tin nhóm\n",
        "**Nhóm 13** của môn *Phương pháp lập trình cho Trí tuệ nhân tạo*, lớp *23TNT1*\n",
        "- Thành viên:\n",
        "  1. Lê Thái Ngọc - 23122012\n",
        "  2. Nguyễn Ngọc Khoa - 23122036  \n",
        "  3. Nguyễn Lê Phúc Thắng - 22120332\n",
        "\n",
        "- Thành viên thực hiện file Jupyter Notebook:\n",
        "  1. Nguyễn Ngọc Khoa - 23122036  "
      ]
    },
    {
      "cell_type": "markdown",
      "metadata": {
        "id": "LeMjqEXvaHNp"
      },
      "source": [
        "## 1. Các khởi tạo ban đầu"
      ]
    },
    {
      "cell_type": "markdown",
      "source": [
        "### 1.1 Import các thư viện"
      ],
      "metadata": {
        "id": "_KPBW6dJgWVN"
      }
    },
    {
      "cell_type": "code",
      "execution_count": 1,
      "metadata": {
        "colab": {
          "base_uri": "https://localhost:8080/"
        },
        "id": "_c9hEDCsa20L",
        "outputId": "2809afa8-4dc1-4790-8165-b13d0ca8a7ca"
      },
      "outputs": [
        {
          "output_type": "stream",
          "name": "stdout",
          "text": [
            "Đã import các thư viện.\n"
          ]
        }
      ],
      "source": [
        "# Các thư viện chuẩn\n",
        "import pandas as pd\n",
        "import numpy as np\n",
        "import re\n",
        "from collections import Counter, defaultdict\n",
        "import math\n",
        "import warnings\n",
        "from sklearn.metrics import confusion_matrix\n",
        "warnings.filterwarnings('ignore')\n",
        "\n",
        "# các thư viện visualization\n",
        "import matplotlib.pyplot as plt\n",
        "import seaborn as sns\n",
        "\n",
        "print(\"Đã import các thư viện.\")"
      ]
    },
    {
      "cell_type": "markdown",
      "source": [
        "### 1.2 Cấu hình và hằng số"
      ],
      "metadata": {
        "id": "OohF_jnrmZWl"
      }
    },
    {
      "cell_type": "code",
      "source": [
        "# Cấu hình chung\n",
        "RANDOM_SEED = 42\n",
        "MIN_WORD_FREQUENCY = 3\n",
        "DEFAULT_ALPHA = 0.1\n",
        "\n",
        "# Cấu hình visualization\n",
        "plt.rcParams['figure.dpi'] = 100\n",
        "plt.rcParams['savefig.dpi'] = 100\n",
        "\n",
        "# Thiết lập style cho biểu đồ\n",
        "sns.set(style=\"whitegrid\")"
      ],
      "metadata": {
        "id": "Uo3oG6ZgmeNz"
      },
      "execution_count": 2,
      "outputs": []
    },
    {
      "cell_type": "markdown",
      "source": [
        "### 1.3 Tải bộ stopwords cho tiếng Anh"
      ],
      "metadata": {
        "id": "RfMTdpexgZRi"
      }
    },
    {
      "cell_type": "code",
      "execution_count": 3,
      "metadata": {
        "colab": {
          "base_uri": "https://localhost:8080/"
        },
        "id": "zKIyOWokl6pu",
        "outputId": "843c2687-84d9-4e1f-e350-a5f0eda7fb4b"
      },
      "outputs": [
        {
          "output_type": "stream",
          "name": "stdout",
          "text": [
            "Tài nguyên stopwords chưa được tải, đang tiến hành tải...\n",
            "Tài nguyên punkt chưa được tải, đang tiến hành tải...\n"
          ]
        },
        {
          "output_type": "stream",
          "name": "stderr",
          "text": [
            "[nltk_data] Downloading package stopwords to /root/nltk_data...\n",
            "[nltk_data]   Unzipping corpora/stopwords.zip.\n",
            "[nltk_data] Downloading package punkt to /root/nltk_data...\n",
            "[nltk_data]   Unzipping tokenizers/punkt.zip.\n"
          ]
        },
        {
          "output_type": "stream",
          "name": "stdout",
          "text": [
            "Đã tải và sẵn sàng sử dụng stopwords.\n"
          ]
        }
      ],
      "source": [
        "# Lấy danh sách stop words\n",
        "import nltk\n",
        "from nltk.stem import PorterStemmer\n",
        "\n",
        "try:\n",
        "    # Thử tìm tài nguyên stopwords\n",
        "    nltk.data.find('corpora/stopwords')\n",
        "except LookupError:\n",
        "    # Nếu không tìm thấy (gây ra LookupError), thì mới tải về\n",
        "    print(\"Tài nguyên stopwords chưa được tải, đang tiến hành tải...\")\n",
        "    nltk.download('stopwords')\n",
        "\n",
        "# Tải thêm tài nguyên 'punkt' nếu cần\n",
        "try:\n",
        "    nltk.data.find('tokenizers/punkt')\n",
        "except LookupError:\n",
        "    print(\"Tài nguyên punkt chưa được tải, đang tiến hành tải...\")\n",
        "    nltk.download('punkt')\n",
        "\n",
        "from nltk.corpus import stopwords\n",
        "stop_words = set(stopwords.words('english'))\n",
        "\n",
        "print(\"Đã tải và sẵn sàng sử dụng stopwords.\")"
      ]
    },
    {
      "cell_type": "markdown",
      "source": [
        "### 1.4 Định nghĩa các hàm visualization"
      ],
      "metadata": {
        "id": "5F1RUTY7gd0l"
      }
    },
    {
      "cell_type": "code",
      "execution_count": 4,
      "metadata": {
        "id": "ijD2R1mQasEM"
      },
      "outputs": [],
      "source": [
        "# Các hàm Visualization\n",
        "def visualize_label_distribution(df, title='Phân phối nhãn'):\n",
        "    plt.figure(figsize=(8, 6))\n",
        "    ax = sns.countplot(x='Spam/Ham', data=df, palette=['#ff6347', '#4682b4'])\n",
        "    plt.title(title, fontsize=16)\n",
        "    plt.xlabel(\"Loại Email\", fontsize=12)\n",
        "    plt.ylabel(\"Số lượng\", fontsize=12)\n",
        "    plt.xticks(ticks=[0, 1], labels=['Spam', 'Ham'])\n",
        "    y_max = df['Spam/Ham'].value_counts().max()\n",
        "    ax.set_ylim(0, y_max * 1.1)\n",
        "    for p in ax.patches:\n",
        "        ax.annotate(f'{int(p.get_height())}',\n",
        "                    (p.get_x() + p.get_width() / 2., p.get_height()),\n",
        "                    ha='center',\n",
        "                    va='center',\n",
        "                    fontsize=12,\n",
        "                    color='black',\n",
        "                    xytext=(0, 9),\n",
        "                    textcoords='offset points')\n",
        "    plt.show()\n",
        "\n",
        "def visualize_confusion_matrix(y_true, y_pred, title='Confusion Matrix'):\n",
        "    classes = sorted(list(set(y_true)))\n",
        "    cm = confusion_matrix(y_true, y_pred, labels=classes)\n",
        "\n",
        "    plt.figure(figsize=(8, 6))\n",
        "    sns.heatmap(cm, annot=True, fmt='d', cmap='Blues',\n",
        "                xticklabels=classes, yticklabels=classes)\n",
        "    plt.title(title, fontsize=16)\n",
        "    plt.xlabel(\"Nhãn dự đoán\", fontsize=12)\n",
        "    plt.ylabel(\"Nhãn thực tế\", fontsize=12)\n",
        "    plt.show()\n",
        "\n",
        "def visualize_top_words(top_words, class_name):\n",
        "    n = min(20, len(top_words))\n",
        "    words = [word for word, score in top_words]\n",
        "    scores = [score for word, score in top_words]\n",
        "    plt.figure(figsize=(10, 8))\n",
        "    colors = '#ff6347' if class_name == 'spam' else '#4682b4'\n",
        "    sns.barplot(x=scores, y=words, palette=[colors])\n",
        "    plt.title(f\"Top {n} từ quan trọng nhất cho lớp '{class_name.upper()}'\", fontsize=16)\n",
        "    plt.xlabel(\"Log Odds Ratio Score\", fontsize=12)\n",
        "    plt.ylabel(\"Từ\", fontsize=12)\n",
        "    plt.show()\n",
        "\n",
        "def visualize_alpha_performance(results):\n",
        "    alphas = [r['alpha'] for r in results]\n",
        "    accuracies = [r['accuracy'] for r in results]\n",
        "    plt.figure(figsize=(12, 7))\n",
        "    plt.plot(alphas, accuracies, marker='o', linestyle='-', color='b', markersize=8)\n",
        "    plt.title('Hiệu suất của mô hình với các giá trị Alpha khác nhau', fontsize=16)\n",
        "    plt.xlabel('Alpha (Hệ số Smoothing)', fontsize=12)\n",
        "    plt.ylabel('Validation Accuracy', fontsize=12)\n",
        "    plt.xscale('log')\n",
        "    plt.xticks(alphas, labels=alphas)\n",
        "    plt.grid(True, which=\"both\", ls=\"--\")\n",
        "    plt.show()"
      ]
    },
    {
      "cell_type": "markdown",
      "source": [
        "### 1.5 Load 2 tập dữ liệu Train và Validation"
      ],
      "metadata": {
        "id": "bGo4vVdPhEXU"
      }
    },
    {
      "cell_type": "code",
      "source": [
        "# hàm đọc dữ liệu\n",
        "def load_data(file_path):\n",
        "    try:\n",
        "      data = pd.read_csv(file_path, on_bad_lines='skip', engine='python')\n",
        "      return data\n",
        "    except Exception as e:\n",
        "      print(f\"Có lỗi xảy ra trong quá trình đọc dữ liệu từ '{file_path}': {e}\")\n",
        "      return None"
      ],
      "metadata": {
        "id": "7XWb7lLlZzoa"
      },
      "execution_count": 5,
      "outputs": []
    },
    {
      "cell_type": "code",
      "execution_count": 6,
      "metadata": {
        "colab": {
          "base_uri": "https://localhost:8080/"
        },
        "id": "LdEQ47baaHNq",
        "outputId": "0d605741-0e0d-4d09-c6d8-262cb7273d8e"
      },
      "outputs": [
        {
          "output_type": "stream",
          "name": "stdout",
          "text": [
            "Đang tải dữ liệu...\n",
            "\n",
            "Đã tải xong dữ liệu train!\n",
            "\n",
            "Đã tải xong dữ liệu val!\n"
          ]
        }
      ],
      "source": [
        "# Đọc dữ liệu\n",
        "print(\"Đang tải dữ liệu...\")\n",
        "\n",
        "train_data = load_data('train.csv')\n",
        "print(\"\\nĐã tải xong dữ liệu train!\")\n",
        "\n",
        "val_data = load_data('val.csv')\n",
        "print(\"\\nĐã tải xong dữ liệu val!\")"
      ]
    },
    {
      "cell_type": "code",
      "source": [
        "print(f\"Kích thước tập train: {train_data.shape}\")\n",
        "print(f\"Kích thước tập validation: {val_data.shape}\")\n",
        "print(\"\\n5 dòng đầu tiên của tập train:\")\n",
        "train_data.head()"
      ],
      "metadata": {
        "colab": {
          "base_uri": "https://localhost:8080/",
          "height": 278
        },
        "id": "xg9jn4u1aLtp",
        "outputId": "75cf0f6a-0e8c-4593-d281-2deebe2d9b7a"
      },
      "execution_count": 7,
      "outputs": [
        {
          "output_type": "stream",
          "name": "stdout",
          "text": [
            "Kích thước tập train: (27284, 6)\n",
            "Kích thước tập validation: (3084, 6)\n",
            "\n",
            "5 dòng đầu tiên của tập train:\n"
          ]
        },
        {
          "output_type": "execute_result",
          "data": {
            "text/plain": [
              "   Unnamed: 0  Message ID                       Subject  \\\n",
              "0           0           0  christmas tree farm pictures   \n",
              "1           1           1      vastar resources , inc .   \n",
              "2           2           2  calpine daily gas nomination   \n",
              "3           3           3                    re : issue   \n",
              "4           5           5      mcmullen gas for 11 / 99   \n",
              "\n",
              "                                             Message Spam/Ham     split  \n",
              "0                                                NaN      ham  0.038415  \n",
              "1  gary , production from the high island larger ...      ham  0.696509  \n",
              "2             - calpine daily gas nomination 1 . doc      ham  0.587792  \n",
              "3  fyi - see note below - already done .\\nstella\\...      ham -0.055438  \n",
              "4  jackie ,\\nsince the inlet to 3 river plant is ...      ham -0.419658  "
            ],
            "text/html": [
              "\n",
              "  <div id=\"df-a608a43f-f4dc-4286-b0c8-5d711a378025\" class=\"colab-df-container\">\n",
              "    <div>\n",
              "<style scoped>\n",
              "    .dataframe tbody tr th:only-of-type {\n",
              "        vertical-align: middle;\n",
              "    }\n",
              "\n",
              "    .dataframe tbody tr th {\n",
              "        vertical-align: top;\n",
              "    }\n",
              "\n",
              "    .dataframe thead th {\n",
              "        text-align: right;\n",
              "    }\n",
              "</style>\n",
              "<table border=\"1\" class=\"dataframe\">\n",
              "  <thead>\n",
              "    <tr style=\"text-align: right;\">\n",
              "      <th></th>\n",
              "      <th>Unnamed: 0</th>\n",
              "      <th>Message ID</th>\n",
              "      <th>Subject</th>\n",
              "      <th>Message</th>\n",
              "      <th>Spam/Ham</th>\n",
              "      <th>split</th>\n",
              "    </tr>\n",
              "  </thead>\n",
              "  <tbody>\n",
              "    <tr>\n",
              "      <th>0</th>\n",
              "      <td>0</td>\n",
              "      <td>0</td>\n",
              "      <td>christmas tree farm pictures</td>\n",
              "      <td>NaN</td>\n",
              "      <td>ham</td>\n",
              "      <td>0.038415</td>\n",
              "    </tr>\n",
              "    <tr>\n",
              "      <th>1</th>\n",
              "      <td>1</td>\n",
              "      <td>1</td>\n",
              "      <td>vastar resources , inc .</td>\n",
              "      <td>gary , production from the high island larger ...</td>\n",
              "      <td>ham</td>\n",
              "      <td>0.696509</td>\n",
              "    </tr>\n",
              "    <tr>\n",
              "      <th>2</th>\n",
              "      <td>2</td>\n",
              "      <td>2</td>\n",
              "      <td>calpine daily gas nomination</td>\n",
              "      <td>- calpine daily gas nomination 1 . doc</td>\n",
              "      <td>ham</td>\n",
              "      <td>0.587792</td>\n",
              "    </tr>\n",
              "    <tr>\n",
              "      <th>3</th>\n",
              "      <td>3</td>\n",
              "      <td>3</td>\n",
              "      <td>re : issue</td>\n",
              "      <td>fyi - see note below - already done .\\nstella\\...</td>\n",
              "      <td>ham</td>\n",
              "      <td>-0.055438</td>\n",
              "    </tr>\n",
              "    <tr>\n",
              "      <th>4</th>\n",
              "      <td>5</td>\n",
              "      <td>5</td>\n",
              "      <td>mcmullen gas for 11 / 99</td>\n",
              "      <td>jackie ,\\nsince the inlet to 3 river plant is ...</td>\n",
              "      <td>ham</td>\n",
              "      <td>-0.419658</td>\n",
              "    </tr>\n",
              "  </tbody>\n",
              "</table>\n",
              "</div>\n",
              "    <div class=\"colab-df-buttons\">\n",
              "\n",
              "  <div class=\"colab-df-container\">\n",
              "    <button class=\"colab-df-convert\" onclick=\"convertToInteractive('df-a608a43f-f4dc-4286-b0c8-5d711a378025')\"\n",
              "            title=\"Convert this dataframe to an interactive table.\"\n",
              "            style=\"display:none;\">\n",
              "\n",
              "  <svg xmlns=\"http://www.w3.org/2000/svg\" height=\"24px\" viewBox=\"0 -960 960 960\">\n",
              "    <path d=\"M120-120v-720h720v720H120Zm60-500h600v-160H180v160Zm220 220h160v-160H400v160Zm0 220h160v-160H400v160ZM180-400h160v-160H180v160Zm440 0h160v-160H620v160ZM180-180h160v-160H180v160Zm440 0h160v-160H620v160Z\"/>\n",
              "  </svg>\n",
              "    </button>\n",
              "\n",
              "  <style>\n",
              "    .colab-df-container {\n",
              "      display:flex;\n",
              "      gap: 12px;\n",
              "    }\n",
              "\n",
              "    .colab-df-convert {\n",
              "      background-color: #E8F0FE;\n",
              "      border: none;\n",
              "      border-radius: 50%;\n",
              "      cursor: pointer;\n",
              "      display: none;\n",
              "      fill: #1967D2;\n",
              "      height: 32px;\n",
              "      padding: 0 0 0 0;\n",
              "      width: 32px;\n",
              "    }\n",
              "\n",
              "    .colab-df-convert:hover {\n",
              "      background-color: #E2EBFA;\n",
              "      box-shadow: 0px 1px 2px rgba(60, 64, 67, 0.3), 0px 1px 3px 1px rgba(60, 64, 67, 0.15);\n",
              "      fill: #174EA6;\n",
              "    }\n",
              "\n",
              "    .colab-df-buttons div {\n",
              "      margin-bottom: 4px;\n",
              "    }\n",
              "\n",
              "    [theme=dark] .colab-df-convert {\n",
              "      background-color: #3B4455;\n",
              "      fill: #D2E3FC;\n",
              "    }\n",
              "\n",
              "    [theme=dark] .colab-df-convert:hover {\n",
              "      background-color: #434B5C;\n",
              "      box-shadow: 0px 1px 3px 1px rgba(0, 0, 0, 0.15);\n",
              "      filter: drop-shadow(0px 1px 2px rgba(0, 0, 0, 0.3));\n",
              "      fill: #FFFFFF;\n",
              "    }\n",
              "  </style>\n",
              "\n",
              "    <script>\n",
              "      const buttonEl =\n",
              "        document.querySelector('#df-a608a43f-f4dc-4286-b0c8-5d711a378025 button.colab-df-convert');\n",
              "      buttonEl.style.display =\n",
              "        google.colab.kernel.accessAllowed ? 'block' : 'none';\n",
              "\n",
              "      async function convertToInteractive(key) {\n",
              "        const element = document.querySelector('#df-a608a43f-f4dc-4286-b0c8-5d711a378025');\n",
              "        const dataTable =\n",
              "          await google.colab.kernel.invokeFunction('convertToInteractive',\n",
              "                                                    [key], {});\n",
              "        if (!dataTable) return;\n",
              "\n",
              "        const docLinkHtml = 'Like what you see? Visit the ' +\n",
              "          '<a target=\"_blank\" href=https://colab.research.google.com/notebooks/data_table.ipynb>data table notebook</a>'\n",
              "          + ' to learn more about interactive tables.';\n",
              "        element.innerHTML = '';\n",
              "        dataTable['output_type'] = 'display_data';\n",
              "        await google.colab.output.renderOutput(dataTable, element);\n",
              "        const docLink = document.createElement('div');\n",
              "        docLink.innerHTML = docLinkHtml;\n",
              "        element.appendChild(docLink);\n",
              "      }\n",
              "    </script>\n",
              "  </div>\n",
              "\n",
              "\n",
              "    <div id=\"df-1b552787-9c7f-4373-a7b9-f766b7f03b5d\">\n",
              "      <button class=\"colab-df-quickchart\" onclick=\"quickchart('df-1b552787-9c7f-4373-a7b9-f766b7f03b5d')\"\n",
              "                title=\"Suggest charts\"\n",
              "                style=\"display:none;\">\n",
              "\n",
              "<svg xmlns=\"http://www.w3.org/2000/svg\" height=\"24px\"viewBox=\"0 0 24 24\"\n",
              "     width=\"24px\">\n",
              "    <g>\n",
              "        <path d=\"M19 3H5c-1.1 0-2 .9-2 2v14c0 1.1.9 2 2 2h14c1.1 0 2-.9 2-2V5c0-1.1-.9-2-2-2zM9 17H7v-7h2v7zm4 0h-2V7h2v10zm4 0h-2v-4h2v4z\"/>\n",
              "    </g>\n",
              "</svg>\n",
              "      </button>\n",
              "\n",
              "<style>\n",
              "  .colab-df-quickchart {\n",
              "      --bg-color: #E8F0FE;\n",
              "      --fill-color: #1967D2;\n",
              "      --hover-bg-color: #E2EBFA;\n",
              "      --hover-fill-color: #174EA6;\n",
              "      --disabled-fill-color: #AAA;\n",
              "      --disabled-bg-color: #DDD;\n",
              "  }\n",
              "\n",
              "  [theme=dark] .colab-df-quickchart {\n",
              "      --bg-color: #3B4455;\n",
              "      --fill-color: #D2E3FC;\n",
              "      --hover-bg-color: #434B5C;\n",
              "      --hover-fill-color: #FFFFFF;\n",
              "      --disabled-bg-color: #3B4455;\n",
              "      --disabled-fill-color: #666;\n",
              "  }\n",
              "\n",
              "  .colab-df-quickchart {\n",
              "    background-color: var(--bg-color);\n",
              "    border: none;\n",
              "    border-radius: 50%;\n",
              "    cursor: pointer;\n",
              "    display: none;\n",
              "    fill: var(--fill-color);\n",
              "    height: 32px;\n",
              "    padding: 0;\n",
              "    width: 32px;\n",
              "  }\n",
              "\n",
              "  .colab-df-quickchart:hover {\n",
              "    background-color: var(--hover-bg-color);\n",
              "    box-shadow: 0 1px 2px rgba(60, 64, 67, 0.3), 0 1px 3px 1px rgba(60, 64, 67, 0.15);\n",
              "    fill: var(--button-hover-fill-color);\n",
              "  }\n",
              "\n",
              "  .colab-df-quickchart-complete:disabled,\n",
              "  .colab-df-quickchart-complete:disabled:hover {\n",
              "    background-color: var(--disabled-bg-color);\n",
              "    fill: var(--disabled-fill-color);\n",
              "    box-shadow: none;\n",
              "  }\n",
              "\n",
              "  .colab-df-spinner {\n",
              "    border: 2px solid var(--fill-color);\n",
              "    border-color: transparent;\n",
              "    border-bottom-color: var(--fill-color);\n",
              "    animation:\n",
              "      spin 1s steps(1) infinite;\n",
              "  }\n",
              "\n",
              "  @keyframes spin {\n",
              "    0% {\n",
              "      border-color: transparent;\n",
              "      border-bottom-color: var(--fill-color);\n",
              "      border-left-color: var(--fill-color);\n",
              "    }\n",
              "    20% {\n",
              "      border-color: transparent;\n",
              "      border-left-color: var(--fill-color);\n",
              "      border-top-color: var(--fill-color);\n",
              "    }\n",
              "    30% {\n",
              "      border-color: transparent;\n",
              "      border-left-color: var(--fill-color);\n",
              "      border-top-color: var(--fill-color);\n",
              "      border-right-color: var(--fill-color);\n",
              "    }\n",
              "    40% {\n",
              "      border-color: transparent;\n",
              "      border-right-color: var(--fill-color);\n",
              "      border-top-color: var(--fill-color);\n",
              "    }\n",
              "    60% {\n",
              "      border-color: transparent;\n",
              "      border-right-color: var(--fill-color);\n",
              "    }\n",
              "    80% {\n",
              "      border-color: transparent;\n",
              "      border-right-color: var(--fill-color);\n",
              "      border-bottom-color: var(--fill-color);\n",
              "    }\n",
              "    90% {\n",
              "      border-color: transparent;\n",
              "      border-bottom-color: var(--fill-color);\n",
              "    }\n",
              "  }\n",
              "</style>\n",
              "\n",
              "      <script>\n",
              "        async function quickchart(key) {\n",
              "          const quickchartButtonEl =\n",
              "            document.querySelector('#' + key + ' button');\n",
              "          quickchartButtonEl.disabled = true;  // To prevent multiple clicks.\n",
              "          quickchartButtonEl.classList.add('colab-df-spinner');\n",
              "          try {\n",
              "            const charts = await google.colab.kernel.invokeFunction(\n",
              "                'suggestCharts', [key], {});\n",
              "          } catch (error) {\n",
              "            console.error('Error during call to suggestCharts:', error);\n",
              "          }\n",
              "          quickchartButtonEl.classList.remove('colab-df-spinner');\n",
              "          quickchartButtonEl.classList.add('colab-df-quickchart-complete');\n",
              "        }\n",
              "        (() => {\n",
              "          let quickchartButtonEl =\n",
              "            document.querySelector('#df-1b552787-9c7f-4373-a7b9-f766b7f03b5d button');\n",
              "          quickchartButtonEl.style.display =\n",
              "            google.colab.kernel.accessAllowed ? 'block' : 'none';\n",
              "        })();\n",
              "      </script>\n",
              "    </div>\n",
              "\n",
              "    </div>\n",
              "  </div>\n"
            ],
            "application/vnd.google.colaboratory.intrinsic+json": {
              "type": "dataframe",
              "variable_name": "train_data",
              "summary": "{\n  \"name\": \"train_data\",\n  \"rows\": 27284,\n  \"fields\": [\n    {\n      \"column\": \"Unnamed: 0\",\n      \"properties\": {\n        \"dtype\": \"number\",\n        \"std\": 9724,\n        \"min\": 0,\n        \"max\": 33715,\n        \"num_unique_values\": 27284,\n        \"samples\": [\n          5123,\n          12402,\n          12979\n        ],\n        \"semantic_type\": \"\",\n        \"description\": \"\"\n      }\n    },\n    {\n      \"column\": \"Message ID\",\n      \"properties\": {\n        \"dtype\": \"number\",\n        \"std\": 9724,\n        \"min\": 0,\n        \"max\": 33715,\n        \"num_unique_values\": 27284,\n        \"samples\": [\n          5123,\n          12402,\n          12979\n        ],\n        \"semantic_type\": \"\",\n        \"description\": \"\"\n      }\n    },\n    {\n      \"column\": \"Subject\",\n      \"properties\": {\n        \"dtype\": \"string\",\n        \"num_unique_values\": 20231,\n        \"samples\": [\n          \"investment idea\",\n          \"paracodin sells better than vicodin\",\n          \"for the last three decades , brokerage houses - - such as merryll lynch - - have cashed in with greater returns than any other industry\"\n        ],\n        \"semantic_type\": \"\",\n        \"description\": \"\"\n      }\n    },\n    {\n      \"column\": \"Message\",\n      \"properties\": {\n        \"dtype\": \"string\",\n        \"num_unique_values\": 24451,\n        \"samples\": [\n          \"hows it been going ?\\nyou have been chosen to participate in an invitation\\nonly event !\\nare you currently paying over 3 % for your mortgage ?\\nstop ! we can help you lower that today !\\nanswer only a few questions and we can get you\\napproved in under 1 minute , it ' s that simple !\\nmore info here : anyhgh . com\\n$ 302 , 000 loans are available for only $ 231 / month !\\neveryone is approved !\\nbad credit ?\\nno problem ! we ' ll have you saving money in no time !\\nare you ready to save ?\\njust fill out our short form : anyhgh . com\\nthanks alot ,\\nbaez v . jodie , v\\nprojecthoneypot @ projecthoneypot . org\\nthe secret of life is honesty and fair dealing . if you can fake that , you ' ve got it made . - groucho marx ( 1890 - 1977 ) . from that day on there were new rules in my classroom . each student was to have an adult ' communication partner ' at the computer . this adult was to sit with the child , not saying a word until the student stopped and looked at the adult or in some other way indicated that communication was desired . then the adult was only to encourage the student by saying the word , nodding the headand smiling . the student was allowed to continue his or her learning . when the student imitated a word , the adult was to respond appropriately . no questions were allowed during this beginning phase . the students were just learning to talk . .\\nluke is missing jumping today . . few things are harder to put up with than the annoyance of a good example . .\\nall my life i ' ve wanted to be someone ; i guess i should have been more specific . jane wagner / lily tomlin ( 1939 - ) . i am not missing surfing . .\",\n          \"discount drugs . . . save 80 % every order !\\nwe are the number one online retailler for dozens of medications . our customers save 80\\ncents out of every dollar , every time , compared to the industry price . yes , that is less than\\nquarter - price\\nwe have all the products that our customers have asked for , including new superviagra\\nsoft - tabs that work in just 15 minutes ! this is the next - generation of sexual improvement\\nwonder - drugs , far more effective than viagra - half a pill will last for 36 hours !\\nget all the information on superviagra here : http : / / friggings . net / cs / ? cheapgeneric\\nour key to keeping customers satisfied is :\\neasy ordering online\\nsave 80 % on regular price\\nwe have massive stocks of drugs for same day dispatch\\nfast delivery straight to your door with discrete packaging\\nwe are the biggest internet retailler with thousands of regular customers\\nno consultation fee\\nno intimate questions or examinations\\nno appointment\\nno prior prescription needed\\nprivate and confidential service\\nplease come by our shop , see for yourself the massive range of products that we have\\navailable . we do have the lowest price and huge stocks ready for same - day dispatch .\\ntwo million customers can ' t be wrong !\\nsee our full range at http : / / friggings . net / ? cheapgeneric\\n\",\n          \"per my voicemails to each of you . . . .\\njenny latham is currently a manager in power risk in houston , and is\\ninterested in moving to london . she is very well respected within enron , and\\nis a highly rated employee . she has been with enron for several years , in\\nvarious positions , and will move us far ahead in the staffing . in january , i\\nmet with yvonne scorer to identify recruiting needs to build the mid and back\\noffice for the london activity for eim . one position identified , business\\ncontroller , is the position i have discussed with jenny , and she is very\\ninterested . i am anxious to move this forward asap for a couple of reasons :\\n1 ) . jenny is interested , and i do not want to lose her to other\\nopportunities within the london office , and 2 ) . it is not too early to move\\nforward on the staffing of the office as it will take some time to\\nappropriately staff and transition current support from egm .\\nbruce , last week jenny and i met with you , and we discussed that it would be\\nappropriate for jenny to spend time with us here in houston to learn our\\ncurrent processes , commoditiies , etc . i absolutely agree with this , but we\\nneed to make a deal with her before we can start that process . the sequence\\nof events that make sense to me and that i believe would make jenny the most\\ncomfortable is that we 1 ) . agree on the financial package ( compensation ,\\nmoving allowance , etc ) , 2 ) . transition her current responsibilities within\\npower risk , and 3 ) . begin training with us . simultaneously , we will need to\\nrecruit applicants for the remaining positions in risk , documentation ,\\nsettlements and trade accounting . my goal is to have everything in place in\\nlondon by the end of first quarter .\\nto meet this time line , we need to get more information and have a discussion\\nwith meryl on the specifics . bruce , can you give meryl the green light to\\nmove forward with us ? i appreciate your help .\"\n        ],\n        \"semantic_type\": \"\",\n        \"description\": \"\"\n      }\n    },\n    {\n      \"column\": \"Spam/Ham\",\n      \"properties\": {\n        \"dtype\": \"category\",\n        \"num_unique_values\": 2,\n        \"samples\": [\n          \"spam\",\n          \"ham\"\n        ],\n        \"semantic_type\": \"\",\n        \"description\": \"\"\n      }\n    },\n    {\n      \"column\": \"split\",\n      \"properties\": {\n        \"dtype\": \"number\",\n        \"std\": 1.0024066869151718,\n        \"min\": -3.842532500480177,\n        \"max\": 3.6127381957087294,\n        \"num_unique_values\": 27284,\n        \"samples\": [\n          0.9783164143218958,\n          -1.0624398833040851\n        ],\n        \"semantic_type\": \"\",\n        \"description\": \"\"\n      }\n    }\n  ]\n}"
            }
          },
          "metadata": {},
          "execution_count": 7
        }
      ]
    },
    {
      "cell_type": "markdown",
      "metadata": {
        "id": "2x-UGbDeaHNs"
      },
      "source": [
        "## 2. Tiền xử lý dữ liệu"
      ]
    },
    {
      "cell_type": "markdown",
      "metadata": {
        "id": "sM-cQTdjaHNs"
      },
      "source": [
        "### 2.1 Kiểm tra và Clean dữ liệu"
      ]
    },
    {
      "cell_type": "code",
      "execution_count": 8,
      "metadata": {
        "colab": {
          "base_uri": "https://localhost:8080/"
        },
        "id": "anzj8tzkaHNt",
        "outputId": "580418c0-7052-4274-faba-3765bb42bb53"
      },
      "outputs": [
        {
          "output_type": "stream",
          "name": "stdout",
          "text": [
            "Kiểm tra dữ liệu null:\n",
            "Unnamed: 0      0\n",
            "Message ID      0\n",
            "Subject       229\n",
            "Message       352\n",
            "Spam/Ham        0\n",
            "split           0\n",
            "dtype: int64\n",
            "\n",
            "Kiểm tra dữ liệu null trong val set:\n",
            "Unnamed: 0     0\n",
            "Message ID     0\n",
            "Subject       29\n",
            "Message       35\n",
            "Spam/Ham       0\n",
            "split          0\n",
            "dtype: int64\n",
            "\n",
            "Số dòng trùng lặp trong train: 0\n",
            "Số dòng trùng lặp trong val: 0\n"
          ]
        }
      ],
      "source": [
        "# Kiểm tra dữ liệu null\n",
        "print(\"Kiểm tra dữ liệu null:\")\n",
        "print(train_data.isnull().sum())\n",
        "print(\"\\nKiểm tra dữ liệu null trong val set:\")\n",
        "print(val_data.isnull().sum())\n",
        "\n",
        "# Kiểm tra dữ liệu trùng lặp\n",
        "print(f\"\\nSố dòng trùng lặp trong train: {train_data.duplicated().sum()}\")\n",
        "print(f\"Số dòng trùng lặp trong val: {val_data.duplicated().sum()}\")"
      ]
    },
    {
      "cell_type": "code",
      "execution_count": 9,
      "metadata": {
        "id": "_s4Pc2t9Sn5Y"
      },
      "outputs": [],
      "source": [
        "# Hàm clean dữ liệu\n",
        "def clean_data(df):\n",
        "  try:\n",
        "    # Điền giá trị rỗng cho Message nếu có\n",
        "    df['Message'] = df['Message'].fillna('')\n",
        "    df['Subject'] = df['Subject'].fillna('')\n",
        "\n",
        "    # Loại bỏ dòng trùng lặp nếu có\n",
        "    df = df.drop_duplicates().reset_index(drop=True)\n",
        "\n",
        "  except Exception as e:\n",
        "    print(f\"Có lỗi xảy ra trong quá trình làm sạch dữ liệu: {e}\")"
      ]
    },
    {
      "cell_type": "code",
      "execution_count": 10,
      "metadata": {
        "colab": {
          "base_uri": "https://localhost:8080/"
        },
        "id": "8w8K9iCXTHxv",
        "outputId": "acce2148-5065-45bd-b2e3-5d3ba97143b1"
      },
      "outputs": [
        {
          "output_type": "stream",
          "name": "stdout",
          "text": [
            "Clean dữ liệu...\n",
            "\n",
            "Hòan tất clean dữ liệu!\n"
          ]
        }
      ],
      "source": [
        "print(\"Clean dữ liệu...\")\n",
        "\n",
        "clean_data(train_data)\n",
        "clean_data(val_data)\n",
        "\n",
        "print(\"\\nHòan tất clean dữ liệu!\")"
      ]
    },
    {
      "cell_type": "markdown",
      "source": [
        "### 2.2 Phân tích phân phối dữ liệu\n",
        "\n",
        "Kiểm tra tỷ lệ spam/ham để đánh giá cân bằng dataset"
      ],
      "metadata": {
        "id": "XjHcLZsekpM4"
      }
    },
    {
      "cell_type": "code",
      "source": [
        "# Kiểm tra phân phối nhãn\n",
        "print(\"Phân phối nhãn trong tập train:\")\n",
        "visualize_label_distribution(train_data, title='Phân phối nhãn trong tập Train')\n",
        "\n",
        "print(\"\\nPhân phối nhãn trong tập val:\")\n",
        "visualize_label_distribution(val_data, title='Phân phối nhãn trong tập Validation')"
      ],
      "metadata": {
        "colab": {
          "base_uri": "https://localhost:8080/",
          "height": 1000
        },
        "id": "G7-m1mLkaokm",
        "outputId": "733e1c42-2898-4806-a959-bbad83012943"
      },
      "execution_count": 11,
      "outputs": [
        {
          "output_type": "stream",
          "name": "stdout",
          "text": [
            "Phân phối nhãn trong tập train:\n"
          ]
        },
        {
          "output_type": "display_data",
          "data": {
            "text/plain": [
              "<Figure size 800x600 with 1 Axes>"
            ],
            "image/png": "[encoded data removed]"
          },
          "metadata": {}
        },
        {
          "output_type": "stream",
          "name": "stdout",
          "text": [
            "\n",
            "Phân phối nhãn trong tập val:\n"
          ]
        },
        {
          "output_type": "display_data",
          "data": {
            "text/plain": [
              "<Figure size 800x600 with 1 Axes>"
            ],
            "image/png": "[encoded data removed]"
          },
          "metadata": {}
        }
      ]
    },
    {
      "cell_type": "markdown",
      "metadata": {
        "id": "9JF7xkUvaHNu"
      },
      "source": [
        "### 2.3 Tiền xử lý văn bản Email"
      ]
    },
    {
      "cell_type": "code",
      "execution_count": 12,
      "metadata": {
        "id": "w3Ddz_xSaHNv"
      },
      "outputs": [],
      "source": [
        "def preprocess_text(text):\n",
        "    \"\"\"\n",
        "    Hàm tất tiền xử lí với các bước:\n",
        "    1. Trích xuất đặc trưng từ văn bản THÔ (subject, message).\n",
        "    2. Tạo token đặc trưng:\n",
        "      + Tỷ lệ chữ in hoa\n",
        "      + Ký tự đặc biệt\n",
        "      + Chữ số\n",
        "    3. Tiền xử lý (làm sạch) văn bản:\n",
        "      + Chuyển về chữ thường\n",
        "      + Loại bỏ ký tự đặc biệt, giữ lại chữ và số\n",
        "      + Loại bỏ khoảng trắng thừa\n",
        "    4. Kết hợp token đặc trưng và văn bản đã làm sạch thành một chuỗi duy nhất.\n",
        "    \"\"\"\n",
        "    # Trích xuất\n",
        "    subject = text['Subject']\n",
        "    message = text['Message']\n",
        "\n",
        "    # Tạo token đặc trưng từ dữ liệu thô\n",
        "    full_text_raw = str(subject) + \" \" + str(message)\n",
        "    text_len = len(full_text_raw)\n",
        "    feature_tokens = []\n",
        "\n",
        "    if text_len > 0:\n",
        "        # Tỷ lệ chữ in hoa\n",
        "        uppercase_count = sum(1 for char in full_text_raw if char.isupper())\n",
        "        caps_ratio = uppercase_count / text_len\n",
        "        if caps_ratio > 0.5:\n",
        "            feature_tokens.append('__FEAT_VERY_HIGH_CAPS__')\n",
        "        elif caps_ratio > 0.2:\n",
        "            feature_tokens.append('__FEAT_HIGH_CAPS__')\n",
        "\n",
        "        # Ký tự đặc biệt\n",
        "        special_chars = len(re.findall(r'[!$%*&£€]', full_text_raw))\n",
        "        if special_chars > 5:\n",
        "            feature_tokens.append('__FEAT_MANY_SPECIALS__')\n",
        "\n",
        "        # Chữ số\n",
        "        digit_count = sum(1 for char in full_text_raw if char.isdigit())\n",
        "        if digit_count > 10:\n",
        "            feature_tokens.append('__FEAT_MANY_DIGITS__')\n",
        "\n",
        "    feature_token_string = ' '.join(feature_tokens)\n",
        "\n",
        "    # Tiền xử lý văn bản\n",
        "    # Chuyển về chữ thường\n",
        "    processed_text = full_text_raw.lower()\n",
        "    # Loại bỏ ký tự đặc biệt, giữ lại chữ và số\n",
        "    processed_text = re.sub(r'[^a-zA-Z0-9\\\\s]', ' ', processed_text)\n",
        "    # Loại bỏ khoảng trắng thừa\n",
        "    processed_text = ' '.join(processed_text.split())\n",
        "\n",
        "    # Kết hợp và trả về\n",
        "    return feature_token_string + ' ' + processed_text"
      ]
    },
    {
      "cell_type": "code",
      "execution_count": 13,
      "metadata": {
        "colab": {
          "base_uri": "https://localhost:8080/",
          "height": 260
        },
        "id": "jQ-CcVf0v3SO",
        "outputId": "d333a796-3e61-49fe-f396-48a280112ebe"
      },
      "outputs": [
        {
          "output_type": "stream",
          "name": "stdout",
          "text": [
            "Đang áp dụng tiền xử lý...\n",
            "\n",
            "Hoàn tất! Ví dụ 5 văn bản đầu sau khi tiền xử lý:\n"
          ]
        },
        {
          "output_type": "execute_result",
          "data": {
            "text/plain": [
              "                                      processed_text\n",
              "0                       christmas tree farm pictures\n",
              "1  __FEAT_MANY_DIGITS__ vastar resources inc gary...\n",
              "2   calpine daily gas nomination calpine daily ga...\n",
              "3  __FEAT_MANY_DIGITS__ re issue fyi see note bel...\n",
              "4  __FEAT_MANY_DIGITS__ mcmullen gas for 11 99 ja..."
            ],
            "text/html": [
              "\n",
              "  <div id=\"df-ae6b509b-ef7c-4560-aa91-a50f29c351f7\" class=\"colab-df-container\">\n",
              "    <div>\n",
              "<style scoped>\n",
              "    .dataframe tbody tr th:only-of-type {\n",
              "        vertical-align: middle;\n",
              "    }\n",
              "\n",
              "    .dataframe tbody tr th {\n",
              "        vertical-align: top;\n",
              "    }\n",
              "\n",
              "    .dataframe thead th {\n",
              "        text-align: right;\n",
              "    }\n",
              "</style>\n",
              "<table border=\"1\" class=\"dataframe\">\n",
              "  <thead>\n",
              "    <tr style=\"text-align: right;\">\n",
              "      <th></th>\n",
              "      <th>processed_text</th>\n",
              "    </tr>\n",
              "  </thead>\n",
              "  <tbody>\n",
              "    <tr>\n",
              "      <th>0</th>\n",
              "      <td>christmas tree farm pictures</td>\n",
              "    </tr>\n",
              "    <tr>\n",
              "      <th>1</th>\n",
              "      <td>__FEAT_MANY_DIGITS__ vastar resources inc gary...</td>\n",
              "    </tr>\n",
              "    <tr>\n",
              "      <th>2</th>\n",
              "      <td>calpine daily gas nomination calpine daily ga...</td>\n",
              "    </tr>\n",
              "    <tr>\n",
              "      <th>3</th>\n",
              "      <td>__FEAT_MANY_DIGITS__ re issue fyi see note bel...</td>\n",
              "    </tr>\n",
              "    <tr>\n",
              "      <th>4</th>\n",
              "      <td>__FEAT_MANY_DIGITS__ mcmullen gas for 11 99 ja...</td>\n",
              "    </tr>\n",
              "  </tbody>\n",
              "</table>\n",
              "</div>\n",
              "    <div class=\"colab-df-buttons\">\n",
              "\n",
              "  <div class=\"colab-df-container\">\n",
              "    <button class=\"colab-df-convert\" onclick=\"convertToInteractive('df-ae6b509b-ef7c-4560-aa91-a50f29c351f7')\"\n",
              "            title=\"Convert this dataframe to an interactive table.\"\n",
              "            style=\"display:none;\">\n",
              "\n",
              "  <svg xmlns=\"http://www.w3.org/2000/svg\" height=\"24px\" viewBox=\"0 -960 960 960\">\n",
              "    <path d=\"M120-120v-720h720v720H120Zm60-500h600v-160H180v160Zm220 220h160v-160H400v160Zm0 220h160v-160H400v160ZM180-400h160v-160H180v160Zm440 0h160v-160H620v160ZM180-180h160v-160H180v160Zm440 0h160v-160H620v160Z\"/>\n",
              "  </svg>\n",
              "    </button>\n",
              "\n",
              "  <style>\n",
              "    .colab-df-container {\n",
              "      display:flex;\n",
              "      gap: 12px;\n",
              "    }\n",
              "\n",
              "    .colab-df-convert {\n",
              "      background-color: #E8F0FE;\n",
              "      border: none;\n",
              "      border-radius: 50%;\n",
              "      cursor: pointer;\n",
              "      display: none;\n",
              "      fill: #1967D2;\n",
              "      height: 32px;\n",
              "      padding: 0 0 0 0;\n",
              "      width: 32px;\n",
              "    }\n",
              "\n",
              "    .colab-df-convert:hover {\n",
              "      background-color: #E2EBFA;\n",
              "      box-shadow: 0px 1px 2px rgba(60, 64, 67, 0.3), 0px 1px 3px 1px rgba(60, 64, 67, 0.15);\n",
              "      fill: #174EA6;\n",
              "    }\n",
              "\n",
              "    .colab-df-buttons div {\n",
              "      margin-bottom: 4px;\n",
              "    }\n",
              "\n",
              "    [theme=dark] .colab-df-convert {\n",
              "      background-color: #3B4455;\n",
              "      fill: #D2E3FC;\n",
              "    }\n",
              "\n",
              "    [theme=dark] .colab-df-convert:hover {\n",
              "      background-color: #434B5C;\n",
              "      box-shadow: 0px 1px 3px 1px rgba(0, 0, 0, 0.15);\n",
              "      filter: drop-shadow(0px 1px 2px rgba(0, 0, 0, 0.3));\n",
              "      fill: #FFFFFF;\n",
              "    }\n",
              "  </style>\n",
              "\n",
              "    <script>\n",
              "      const buttonEl =\n",
              "        document.querySelector('#df-ae6b509b-ef7c-4560-aa91-a50f29c351f7 button.colab-df-convert');\n",
              "      buttonEl.style.display =\n",
              "        google.colab.kernel.accessAllowed ? 'block' : 'none';\n",
              "\n",
              "      async function convertToInteractive(key) {\n",
              "        const element = document.querySelector('#df-ae6b509b-ef7c-4560-aa91-a50f29c351f7');\n",
              "        const dataTable =\n",
              "          await google.colab.kernel.invokeFunction('convertToInteractive',\n",
              "                                                    [key], {});\n",
              "        if (!dataTable) return;\n",
              "\n",
              "        const docLinkHtml = 'Like what you see? Visit the ' +\n",
              "          '<a target=\"_blank\" href=https://colab.research.google.com/notebooks/data_table.ipynb>data table notebook</a>'\n",
              "          + ' to learn more about interactive tables.';\n",
              "        element.innerHTML = '';\n",
              "        dataTable['output_type'] = 'display_data';\n",
              "        await google.colab.output.renderOutput(dataTable, element);\n",
              "        const docLink = document.createElement('div');\n",
              "        docLink.innerHTML = docLinkHtml;\n",
              "        element.appendChild(docLink);\n",
              "      }\n",
              "    </script>\n",
              "  </div>\n",
              "\n",
              "\n",
              "    <div id=\"df-cf447885-2340-40d5-b49e-1491ca158748\">\n",
              "      <button class=\"colab-df-quickchart\" onclick=\"quickchart('df-cf447885-2340-40d5-b49e-1491ca158748')\"\n",
              "                title=\"Suggest charts\"\n",
              "                style=\"display:none;\">\n",
              "\n",
              "<svg xmlns=\"http://www.w3.org/2000/svg\" height=\"24px\"viewBox=\"0 0 24 24\"\n",
              "     width=\"24px\">\n",
              "    <g>\n",
              "        <path d=\"M19 3H5c-1.1 0-2 .9-2 2v14c0 1.1.9 2 2 2h14c1.1 0 2-.9 2-2V5c0-1.1-.9-2-2-2zM9 17H7v-7h2v7zm4 0h-2V7h2v10zm4 0h-2v-4h2v4z\"/>\n",
              "    </g>\n",
              "</svg>\n",
              "      </button>\n",
              "\n",
              "<style>\n",
              "  .colab-df-quickchart {\n",
              "      --bg-color: #E8F0FE;\n",
              "      --fill-color: #1967D2;\n",
              "      --hover-bg-color: #E2EBFA;\n",
              "      --hover-fill-color: #174EA6;\n",
              "      --disabled-fill-color: #AAA;\n",
              "      --disabled-bg-color: #DDD;\n",
              "  }\n",
              "\n",
              "  [theme=dark] .colab-df-quickchart {\n",
              "      --bg-color: #3B4455;\n",
              "      --fill-color: #D2E3FC;\n",
              "      --hover-bg-color: #434B5C;\n",
              "      --hover-fill-color: #FFFFFF;\n",
              "      --disabled-bg-color: #3B4455;\n",
              "      --disabled-fill-color: #666;\n",
              "  }\n",
              "\n",
              "  .colab-df-quickchart {\n",
              "    background-color: var(--bg-color);\n",
              "    border: none;\n",
              "    border-radius: 50%;\n",
              "    cursor: pointer;\n",
              "    display: none;\n",
              "    fill: var(--fill-color);\n",
              "    height: 32px;\n",
              "    padding: 0;\n",
              "    width: 32px;\n",
              "  }\n",
              "\n",
              "  .colab-df-quickchart:hover {\n",
              "    background-color: var(--hover-bg-color);\n",
              "    box-shadow: 0 1px 2px rgba(60, 64, 67, 0.3), 0 1px 3px 1px rgba(60, 64, 67, 0.15);\n",
              "    fill: var(--button-hover-fill-color);\n",
              "  }\n",
              "\n",
              "  .colab-df-quickchart-complete:disabled,\n",
              "  .colab-df-quickchart-complete:disabled:hover {\n",
              "    background-color: var(--disabled-bg-color);\n",
              "    fill: var(--disabled-fill-color);\n",
              "    box-shadow: none;\n",
              "  }\n",
              "\n",
              "  .colab-df-spinner {\n",
              "    border: 2px solid var(--fill-color);\n",
              "    border-color: transparent;\n",
              "    border-bottom-color: var(--fill-color);\n",
              "    animation:\n",
              "      spin 1s steps(1) infinite;\n",
              "  }\n",
              "\n",
              "  @keyframes spin {\n",
              "    0% {\n",
              "      border-color: transparent;\n",
              "      border-bottom-color: var(--fill-color);\n",
              "      border-left-color: var(--fill-color);\n",
              "    }\n",
              "    20% {\n",
              "      border-color: transparent;\n",
              "      border-left-color: var(--fill-color);\n",
              "      border-top-color: var(--fill-color);\n",
              "    }\n",
              "    30% {\n",
              "      border-color: transparent;\n",
              "      border-left-color: var(--fill-color);\n",
              "      border-top-color: var(--fill-color);\n",
              "      border-right-color: var(--fill-color);\n",
              "    }\n",
              "    40% {\n",
              "      border-color: transparent;\n",
              "      border-right-color: var(--fill-color);\n",
              "      border-top-color: var(--fill-color);\n",
              "    }\n",
              "    60% {\n",
              "      border-color: transparent;\n",
              "      border-right-color: var(--fill-color);\n",
              "    }\n",
              "    80% {\n",
              "      border-color: transparent;\n",
              "      border-right-color: var(--fill-color);\n",
              "      border-bottom-color: var(--fill-color);\n",
              "    }\n",
              "    90% {\n",
              "      border-color: transparent;\n",
              "      border-bottom-color: var(--fill-color);\n",
              "    }\n",
              "  }\n",
              "</style>\n",
              "\n",
              "      <script>\n",
              "        async function quickchart(key) {\n",
              "          const quickchartButtonEl =\n",
              "            document.querySelector('#' + key + ' button');\n",
              "          quickchartButtonEl.disabled = true;  // To prevent multiple clicks.\n",
              "          quickchartButtonEl.classList.add('colab-df-spinner');\n",
              "          try {\n",
              "            const charts = await google.colab.kernel.invokeFunction(\n",
              "                'suggestCharts', [key], {});\n",
              "          } catch (error) {\n",
              "            console.error('Error during call to suggestCharts:', error);\n",
              "          }\n",
              "          quickchartButtonEl.classList.remove('colab-df-spinner');\n",
              "          quickchartButtonEl.classList.add('colab-df-quickchart-complete');\n",
              "        }\n",
              "        (() => {\n",
              "          let quickchartButtonEl =\n",
              "            document.querySelector('#df-cf447885-2340-40d5-b49e-1491ca158748 button');\n",
              "          quickchartButtonEl.style.display =\n",
              "            google.colab.kernel.accessAllowed ? 'block' : 'none';\n",
              "        })();\n",
              "      </script>\n",
              "    </div>\n",
              "\n",
              "    </div>\n",
              "  </div>\n"
            ],
            "application/vnd.google.colaboratory.intrinsic+json": {
              "type": "dataframe",
              "summary": "{\n  \"name\": \"train_data[['processed_text']]\",\n  \"rows\": 5,\n  \"fields\": [\n    {\n      \"column\": \"processed_text\",\n      \"properties\": {\n        \"dtype\": \"string\",\n        \"num_unique_values\": 5,\n        \"samples\": [\n          \"__FEAT_MANY_DIGITS__ vastar resources inc gary production from the high island larger block a 1 2 commenced on saturday at 2 00 p m at about 6 500 gross carlos expects between 9 500 and 10 000 gross for tomorrow vastar owns 68 of the gross production george x 3 6992 forwarded by george weissman hou ect on 12 13 99 10 16 am daren j farmer 12 10 99 10 38 am to carlos j rodriguez hou ect ect cc george weissman hou ect ect melissa graves hou ect ect subject vastar resources inc carlos please call linda and get everything set up i m going to estimate 4 500 coming up tomorrow with a 2 000 increase each following day based on my conversations with bill fischer at bmar d forwarded by daren j farmer hou ect on 12 10 99 10 34 am enron north america corp from george weissman 12 10 99 10 00 am to daren j farmer hou ect ect cc gary bryan hou ect ect melissa graves hou ect ect subject vastar resources inc darren the attached appears to be a nomination from vastar resources inc for the high island larger block a 1 2 previously erroneously referred to as the 1 well vastar now expects the well to commence production sometime tomorrow i told linda harris that we d get her a telephone number in gas control so she can provide notification of the turn on tomorrow linda s numbers for the record are 281 584 3359 voice and 713 312 1689 fax would you please see that someone contacts linda and advises her how to submit future nominations via e mail fax or voice thanks george x 3 6992 forwarded by george weissman hou ect on 12 10 99 09 44 am linda harris on 12 10 99 09 38 43 am to george weissman hou ect ect cc subject hi a 1 2 effective 12 11 99 mscf d min ftp time 4 500 9 925 24 hours 6 000 9 908 24 hours 8 000 9 878 24 hours 10 000 9 840 24 hours 12 000 9 793 24 hours 14 000 9 738 24 hours 16 000 9 674 24 hours 18 000 9 602 24 hours 20 000 9 521 24 hours 22 000 9 431 24 hours 24 000 9 332 24 hours 26 000 9 224 24 hours 28 000 9 108 24 hours 30 000 8 982 24 hours 32 000 8 847 24 hours 34 000 8 703 24 hours 36 000 8 549 24 hours\",\n          \"__FEAT_MANY_DIGITS__ mcmullen gas for 11 99 jackie since the inlet to 3 river plant is shut in on 10 19 99 the last day of flow at what meter is the mcmullen gas being diverted to at what meter is hpl buying the residue gas this is the gas from teco vastar vintage tejones and swift i still see active deals at meter 3405 in path manager for teco vastar vintage tejones and swift i also see gas scheduled in pops at meter 3404 and 3405 please advice we need to resolve this as soon as possible so settlement can send out payments thanks\",\n          \" calpine daily gas nomination calpine daily gas nomination 1 doc\"\n        ],\n        \"semantic_type\": \"\",\n        \"description\": \"\"\n      }\n    }\n  ]\n}"
            }
          },
          "metadata": {},
          "execution_count": 13
        }
      ],
      "source": [
        "# Áp dụng tiền xử lý cho dữ liệu\n",
        "print(\"Đang áp dụng tiền xử lý...\")\n",
        "\n",
        "# Áp dụng hàm preproces cho tập train\n",
        "train_data['processed_text'] = train_data.apply(preprocess_text, axis=1)\n",
        "\n",
        "# Áp dụng hàm preproces cho tập validation\n",
        "val_data['processed_text'] = val_data.apply(preprocess_text, axis=1)\n",
        "\n",
        "print(\"\\nHoàn tất! Ví dụ 5 văn bản đầu sau khi tiền xử lý:\")\n",
        "train_data[['processed_text']].head()"
      ]
    },
    {
      "cell_type": "markdown",
      "metadata": {
        "id": "0epgOuNeaHNv"
      },
      "source": [
        "## 3. Xây dựng mô hình Naive Bayes \"from-scratch\""
      ]
    },
    {
      "cell_type": "markdown",
      "metadata": {
        "id": "anyhuTf0aHNw"
      },
      "source": [
        "### 3.1 Lý thuyết Naive Bayes\n",
        "\n",
        "#### Công thức cơ bản:\n",
        "$$P(y|x) = \\frac{P(x|y) \\cdot P(y)}{P(x)}$$\n",
        "\n",
        "#### Với giả định Naive Bayes:\n",
        "$$P(x|y) = \\prod_{i=1}^{n} P(x_i|y)$$\n",
        "\n",
        "#### Sử dụng log để tránh underflow:\n",
        "$$\\log P(y|x) = \\log P(y) + \\sum_{i=1}^{n} \\log P(x_i|y)$$\n",
        "\n",
        "#### Laplace smoothing:\n",
        "$$P(x_i|y) = \\frac{\\text{count}(x_i, y) + \\alpha}{\\text{count}(y) + \\alpha \\cdot |V|}$$"
      ]
    },
    {
      "cell_type": "markdown",
      "metadata": {
        "id": "f41Ir4vRaHNw"
      },
      "source": [
        "### 3.2 Cài đặt Naive Bayes Classifier\n"
      ]
    },
    {
      "cell_type": "markdown",
      "metadata": {
        "id": "QFVsrmS88Zgq"
      },
      "source": [
        "#### Sử dụng thêm tham số `tokenizer`\n",
        "\n",
        "Dùng để xử lý thêm các đầu vào trước khi huấn luyện.\n",
        "\n",
        "Quy trình của hàm `tokenizer_with_bigrams`:\n",
        "\n",
        "  - Tách từ và loại bỏ stop words: Tách văn bản thành các từ và loại bỏ những từ phổ biến, không mang nhiều ý nghĩa.\n",
        "\n",
        "  - Stemming: Đưa các từ về dạng gốc (ví dụ running -> run).\n",
        "\n",
        "  - Tạo Bigrams: Ghép mỗi cặp từ liền kề (đã được stem) thành một token duy nhất (ví dụ buy_now).\n",
        "\n",
        "  - Kết quả: Trả về một danh sách bao gồm cả các từ đơn và các cặp từ đã được xử lý."
      ]
    },
    {
      "cell_type": "code",
      "execution_count": 14,
      "metadata": {
        "id": "O2NlYV-lx1fp"
      },
      "outputs": [],
      "source": [
        "# Tokenize + bigrams\n",
        "def tokenizer_with_bigrams(text, stop_words_set, stemmer):\n",
        "    \"\"\"\n",
        "    Hàm tokenizer, stemming, tạo unigrams, bigrams.\n",
        "    \"\"\"\n",
        "    # Tokenize và loại bỏ stop words\n",
        "    words = text.split()\n",
        "    unigrams = [word for word in words if word not in stop_words_set]\n",
        "\n",
        "    # Stemming\n",
        "    stemmed_unigrams = [stemmer.stem(word) for word in unigrams]\n",
        "\n",
        "    # Tạo bigrams từ các từ đã stem\n",
        "    bigrams = ['_'.join(pair) for pair in zip(stemmed_unigrams, stemmed_unigrams[1:])]\n",
        "\n",
        "    return stemmed_unigrams + bigrams"
      ]
    },
    {
      "cell_type": "markdown",
      "source": [
        "#### Cài đặt class `NaiveBayesClassifier`"
      ],
      "metadata": {
        "id": "-DGXO-f4pcOm"
      }
    },
    {
      "cell_type": "code",
      "execution_count": 15,
      "metadata": {
        "id": "sVa9Aef1aHNx"
      },
      "outputs": [],
      "source": [
        "class NaiveBayesClassifier:\n",
        "    def __init__(self, alpha=1.0, tokenizer=None):\n",
        "        \"\"\"\n",
        "        Khởi tạo Naive Bayes Classifier\n",
        "\n",
        "        Parameters:\n",
        "        - alpha: Tham số smoothing (mặc định = 1.0 cho Laplace smoothing)\n",
        "        - tokenizer: Hàm tokenizer, mặc định là _default_tokenizer\n",
        "        \"\"\"\n",
        "        self.alpha = alpha\n",
        "        self.class_priors = {}\n",
        "        self.word_probs = {}\n",
        "        self.classes = []\n",
        "        self.vocab = set()\n",
        "        self.stop_words = set(stopwords.words('english'))\n",
        "        self.stemmer = PorterStemmer()\n",
        "\n",
        "        if tokenizer:\n",
        "            self.tokenizer = lambda text: tokenizer(text, self.stop_words, self.stemmer)\n",
        "        else:\n",
        "            self.tokenizer = self._default_tokenizer\n",
        "\n",
        "    def _default_tokenizer(self, text):\n",
        "        \"\"\" Tách văn bản thành các từ, loại bỏ stop words và stemming \"\"\"\n",
        "        words = text.split()\n",
        "        words = [word for word in words if word not in self.stop_words]\n",
        "        words = [self.stemmer.stem(word) for word in words]\n",
        "        return words\n",
        "\n",
        "    def fit(self, X_train, y_train):\n",
        "        \"\"\"\n",
        "        Huấn luyện mô hình Naive Bayes\n",
        "\n",
        "        Parameters:\n",
        "        - X_train: Danh sách văn bản đã tiền xử lý\n",
        "        - y_train: Nhãn tương ứng\n",
        "        \"\"\"\n",
        "        print(\"Bắt đầu huấn luyện mô hình:\")\n",
        "\n",
        "        print(\"\\n - Các tham số:\")\n",
        "        print(f\"  + Alpha: {self.alpha}\")\n",
        "        tokenizer_name = \"tokenizer_with_bigrams\" if self.tokenizer else \"_default_tokenizer\"\n",
        "        print(f\"  + Tokenizer: {tokenizer_name}\")\n",
        "\n",
        "        # Lấy danh sách các lớp\n",
        "        self.classes = list(set(y_train))\n",
        "        n_docs = len(y_train)\n",
        "\n",
        "        # Tính prior probability cho mỗi lớp\n",
        "        print(\"\\n - Tính prior probability...\")\n",
        "        for c in self.classes:\n",
        "            self.class_priors[c] = sum(1 for y in y_train if y == c) / n_docs\n",
        "            print(f\"  + P({c}) = {self.class_priors[c]:.4f}\")\n",
        "\n",
        "\n",
        "        # 1. Đếm tất cả các từ trong tập train trước\n",
        "        print(\"\\n - Đang đếm từ để xây dựng vocabulary...\")\n",
        "        word_counts = {c: Counter() for c in self.classes}\n",
        "        all_words_counter = Counter()\n",
        "\n",
        "        for text, label in zip(X_train, y_train):\n",
        "            words = self.tokenizer(text)\n",
        "            word_counts[label].update(words)\n",
        "            all_words_counter.update(words)\n",
        "\n",
        "        # 2. Cắt tỉa (pruning) để tạo bộ từ vựng cuối cùng\n",
        "        min_frequency = MIN_WORD_FREQUENCY\n",
        "        self.vocab = {word for word, count in all_words_counter.items() if count >= min_frequency}\n",
        "        vocab_size = len(self.vocab)\n",
        "        print(f\"  + Tổng số từ duy nhất ban đầu: {len(all_words_counter)}\")\n",
        "        print(f\"  + Kích thước từ vựng sau khi lọc (xuất hiện >= {min_frequency} lần): {vocab_size}\")\n",
        "\n",
        "        # 3. Tính likelihood với Laplace smoothing dựa trên từ vựng đã lọc\n",
        "        print(\"\\n - Tính likelihood với Laplace smoothing...\")\n",
        "        self.word_probs = {c: {} for c in self.classes}\n",
        "\n",
        "        for c in self.classes:\n",
        "            # Lấy tổng số từ của lớp c (chỉ tính các từ trong vocab)\n",
        "            total_words_in_class = sum(word_counts[c][word] for word in self.vocab)\n",
        "            print(f\"\\n - Lớp {c}: {total_words_in_class} từ (trong vocab)\")\n",
        "\n",
        "            # Tính P(word|class) cho mỗi từ trong vocabulary\n",
        "            for word in self.vocab:\n",
        "                count = word_counts[c].get(word, 0)\n",
        "                self.word_probs[c][word] = (count + self.alpha) / (total_words_in_class + self.alpha * vocab_size)\n",
        "\n",
        "            # Xác suất cho từ chưa từng xuất hiện (unknown words)\n",
        "            self.word_probs[c]['<UNK>'] = self.alpha / (total_words_in_class + self.alpha * vocab_size)\n",
        "\n",
        "        print(\"\\nHuấn luyện hoàn tất!\")\n",
        "        return self\n",
        "\n",
        "    def _predict_single(self, text):\n",
        "        \"\"\"\n",
        "        Dự đoán nhãn cho một văn bản\n",
        "        Returns: (predicted_class, log_probabilities)\n",
        "        \"\"\"\n",
        "        words = self.tokenizer(text) # Tokenize và stem\n",
        "\n",
        "        log_probs = {}\n",
        "        for c in self.classes:\n",
        "            log_prob = math.log(self.class_priors[c])\n",
        "            for word in words:\n",
        "                # Nếu từ có trong dict xác suất của lớp c\n",
        "                if word in self.word_probs[c]:\n",
        "                    log_prob += math.log(self.word_probs[c][word])\n",
        "                else:\n",
        "                    # Từ không có trong vocab (đã bị lọc) hoặc mới, dùng xác suất UNK\n",
        "                    log_prob += math.log(self.word_probs[c]['<UNK>'])\n",
        "            log_probs[c] = log_prob\n",
        "\n",
        "        predicted_class = max(log_probs, key=log_probs.get)\n",
        "        return predicted_class, log_probs\n",
        "\n",
        "    def predict(self, X_test):\n",
        "        \"\"\"Dự đoán nhãn cho tập văn bản\"\"\"\n",
        "        predictions = []\n",
        "        log_probs = []\n",
        "        for text in X_test:\n",
        "            pred, log_prob = self._predict_single(text)\n",
        "            predictions.append(pred)\n",
        "            log_probs.append(log_prob)\n",
        "        return predictions, log_probs\n",
        "\n",
        "    # Hàm predict_proba không thay đổi\n",
        "    def predict_proba(self, X_test):\n",
        "        proba_list = []\n",
        "        for text in X_test:\n",
        "            _, log_probs = self._predict_single(text)\n",
        "            max_log_prob = max(log_probs.values())\n",
        "            exp_probs = {c: math.exp(log_prob - max_log_prob) for c, log_prob in log_probs.items()}\n",
        "            total = sum(exp_probs.values())\n",
        "            probs = {c: exp_prob / total for c, exp_prob in exp_probs.items()}\n",
        "            proba_list.append(probs)\n",
        "        return proba_list"
      ]
    },
    {
      "cell_type": "markdown",
      "metadata": {
        "id": "p7BEpwyGaHNx"
      },
      "source": [
        "### 3.3 Huấn luyện mô hình"
      ]
    },
    {
      "cell_type": "code",
      "execution_count": 16,
      "metadata": {
        "id": "hjBQVCacaHNy"
      },
      "outputs": [],
      "source": [
        "# Khởi tạo mô hình\n",
        "nb_classifier = NaiveBayesClassifier(alpha=DEFAULT_ALPHA, tokenizer=tokenizer_with_bigrams) # đã qua chạy thử nghiệm nên chọn DEFAULT_ALPHA = 0.1 để tối ưu"
      ]
    },
    {
      "cell_type": "code",
      "source": [
        "# Chuẩn bị dữ liệu\n",
        "X_train = train_data['processed_text'].values\n",
        "y_train = train_data['Spam/Ham'].values"
      ],
      "metadata": {
        "id": "HkuhqHIlbYe4"
      },
      "execution_count": 17,
      "outputs": []
    },
    {
      "cell_type": "code",
      "execution_count": 18,
      "metadata": {
        "colab": {
          "base_uri": "https://localhost:8080/"
        },
        "id": "f6cU8P41fGq7",
        "outputId": "4dca2a10-60e9-4b7e-84f1-a8255865f505"
      },
      "outputs": [
        {
          "output_type": "stream",
          "name": "stdout",
          "text": [
            "Bắt đầu huấn luyện mô hình:\n",
            "\n",
            " - Các tham số:\n",
            "  + Alpha: 0.1\n",
            "  + Tokenizer: tokenizer_with_bigrams\n",
            "\n",
            " - Tính prior probability...\n",
            "  + P(spam) = 0.5079\n",
            "  + P(ham) = 0.4921\n",
            "\n",
            " - Đang đếm từ để xây dựng vocabulary...\n",
            "  + Tổng số từ duy nhất ban đầu: 1347153\n",
            "  + Kích thước từ vựng sau khi lọc (xuất hiện >= 3 lần): 301678\n",
            "\n",
            " - Tính likelihood với Laplace smoothing...\n",
            "\n",
            " - Lớp spam: 3116685 từ (trong vocab)\n",
            "\n",
            " - Lớp ham: 3423359 từ (trong vocab)\n",
            "\n",
            "Huấn luyện hoàn tất!\n"
          ]
        },
        {
          "output_type": "execute_result",
          "data": {
            "text/plain": [
              "<__main__.NaiveBayesClassifier at 0x7882dc81b590>"
            ]
          },
          "metadata": {},
          "execution_count": 18
        }
      ],
      "source": [
        "# Huấn luyện mô hình\n",
        "nb_classifier.fit(X_train, y_train)"
      ]
    },
    {
      "cell_type": "markdown",
      "source": [
        "#### Phân tích kết quả huấn luyện\n",
        "\n",
        "**Nhận xét:**\n",
        "- Prior probabilities cân bằng (spam: 0.5079, ham: 0.4921)\n",
        "- Vocabulary size sau pruning: 301,678 từ\n",
        "- Pruning loại bỏ ~39% từ hiếm, giúp model robust hơn"
      ],
      "metadata": {
        "id": "I2RtnhZJkxNJ"
      }
    },
    {
      "cell_type": "markdown",
      "metadata": {
        "id": "95dWxvj8aHNy"
      },
      "source": [
        "### 3.4 Đánh giá mô hình"
      ]
    },
    {
      "cell_type": "code",
      "execution_count": 19,
      "metadata": {
        "id": "hwddYPCaaHNy"
      },
      "outputs": [],
      "source": [
        "def evaluate_model(y_true, y_pred):\n",
        "    \"\"\"\n",
        "    Đánh giá mô hình với các metrics:\n",
        "    - Accuracy\n",
        "    - Precision, Recall, F1-score cho mỗi lớp\n",
        "    - Visualize Confusion Matrix\n",
        "    \"\"\"\n",
        "    # Accuracy\n",
        "    accuracy = sum(y_t == y_p for y_t, y_p in zip(y_true, y_pred)) / len(y_true)\n",
        "\n",
        "    # Confusion Matrix và metrics cho mỗi lớp\n",
        "    classes = list(set(y_true))\n",
        "    metrics = {}\n",
        "\n",
        "    for c in classes:\n",
        "        # True Positive, False Positive, False Negative, True Negative\n",
        "        tp = sum((y_t == c) and (y_p == c) for y_t, y_p in zip(y_true, y_pred))\n",
        "        fp = sum((y_t != c) and (y_p == c) for y_t, y_p in zip(y_true, y_pred))\n",
        "        fn = sum((y_t == c) and (y_p != c) for y_t, y_p in zip(y_true, y_pred))\n",
        "        tn = sum((y_t != c) and (y_p != c) for y_t, y_p in zip(y_true, y_pred))\n",
        "\n",
        "        # Precision, Recall, F1\n",
        "        precision = tp / (tp + fp) if (tp + fp) > 0 else 0\n",
        "        recall = tp / (tp + fn) if (tp + fn) > 0 else 0\n",
        "        f1 = 2 * precision * recall / (precision + recall) if (precision + recall) > 0 else 0\n",
        "\n",
        "        metrics[c] = {\n",
        "            'precision': precision,\n",
        "            'recall': recall,\n",
        "            'f1': f1,\n",
        "            'tp': tp, 'fp': fp, 'fn': fn, 'tn': tn\n",
        "        }\n",
        "\n",
        "    return accuracy, metrics"
      ]
    },
    {
      "cell_type": "markdown",
      "source": [
        "#### Trên tập Train"
      ],
      "metadata": {
        "id": "NFg7QU4zqECa"
      }
    },
    {
      "cell_type": "code",
      "execution_count": 20,
      "metadata": {
        "colab": {
          "base_uri": "https://localhost:8080/",
          "height": 884
        },
        "id": "zdcZFi_1fCSp",
        "outputId": "66507efe-b0c0-4551-c830-8a49312538da"
      },
      "outputs": [
        {
          "output_type": "stream",
          "name": "stdout",
          "text": [
            "==================================================\n",
            "            Đánh giá trên tập train\n",
            "==================================================\n",
            "\n",
            "Accuracy: 0.9963\n",
            "\n",
            "Lớp 'spam':\n",
            " - Precision: 0.9968\n",
            " - Recall: 0.9960\n",
            " - F1-score: 0.9964\n",
            "\n",
            "Lớp 'ham':\n",
            " - Precision: 0.9958\n",
            " - Recall: 0.9967\n",
            " - F1-score: 0.9963\n",
            "\n",
            "Confusion Matrix:\n"
          ]
        },
        {
          "output_type": "display_data",
          "data": {
            "text/plain": [
              "<Figure size 800x600 with 2 Axes>"
            ],
            "image/png": "[encoded data removed]"
          },
          "metadata": {}
        }
      ],
      "source": [
        "# Đánh giá trên tập train\n",
        "print(\"=\"*50)\n",
        "print(\"            Đánh giá trên tập train\")\n",
        "print(\"=\"*50)\n",
        "\n",
        "train_predictions, _ = nb_classifier.predict(X_train)\n",
        "train_accuracy, train_metrics = evaluate_model(y_train, train_predictions)\n",
        "\n",
        "print(f\"\\nAccuracy: {train_accuracy:.4f}\")\n",
        "for c in train_metrics:\n",
        "    m = train_metrics[c]\n",
        "    print(f\"\\nLớp '{c}':\")\n",
        "    print(f\" - Precision: {m['precision']:.4f}\")\n",
        "    print(f\" - Recall: {m['recall']:.4f}\")\n",
        "    print(f\" - F1-score: {m['f1']:.4f}\")\n",
        "\n",
        "# Confusion Matrix\n",
        "print(\"\\nConfusion Matrix:\")\n",
        "visualize_confusion_matrix(y_train, train_predictions, title='Confusion Matrix trên tập Train')"
      ]
    },
    {
      "cell_type": "markdown",
      "source": [
        "#### Trên tập Validation"
      ],
      "metadata": {
        "id": "asDRdahyqHV2"
      }
    },
    {
      "cell_type": "code",
      "execution_count": 21,
      "metadata": {
        "colab": {
          "base_uri": "https://localhost:8080/",
          "height": 884
        },
        "id": "FRK_xs5DcyOP",
        "outputId": "1b8ad899-02d2-4af3-b4dd-82dd866dfa08"
      },
      "outputs": [
        {
          "output_type": "stream",
          "name": "stdout",
          "text": [
            "==================================================\n",
            "          Đánh giá trên tập validation\n",
            "==================================================\n",
            "\n",
            "Accuracy: 0.9899\n",
            "\n",
            "Lớp 'spam':\n",
            "  Precision: 0.9904\n",
            "  Recall: 0.9898\n",
            "  F1-score: 0.9901\n",
            "\n",
            "Lớp 'ham':\n",
            "  Precision: 0.9895\n",
            "  Recall: 0.9901\n",
            "  F1-score: 0.9898\n",
            "\n",
            "Confusion Matrix:\n"
          ]
        },
        {
          "output_type": "display_data",
          "data": {
            "text/plain": [
              "<Figure size 800x600 with 2 Axes>"
            ],
            "image/png": "[encoded data removed]"
          },
          "metadata": {}
        }
      ],
      "source": [
        "# Đánh giá trên tập validation\n",
        "print(\"=\"*50)\n",
        "print(\"          Đánh giá trên tập validation\")\n",
        "print(\"=\"*50)\n",
        "\n",
        "X_val = val_data['processed_text'].values\n",
        "y_val = val_data['Spam/Ham'].values\n",
        "\n",
        "val_predictions, _ = nb_classifier.predict(X_val)\n",
        "val_accuracy, val_metrics = evaluate_model(y_val, val_predictions)\n",
        "\n",
        "print(f\"\\nAccuracy: {val_accuracy:.4f}\")\n",
        "for c in val_metrics:\n",
        "    m = val_metrics[c]\n",
        "    print(f\"\\nLớp '{c}':\")\n",
        "    print(f\"  Precision: {m['precision']:.4f}\")\n",
        "    print(f\"  Recall: {m['recall']:.4f}\")\n",
        "    print(f\"  F1-score: {m['f1']:.4f}\")\n",
        "\n",
        "# Confusion Matrix\n",
        "print(\"\\nConfusion Matrix:\")\n",
        "visualize_confusion_matrix(y_val, val_predictions, title='Confusion Matrix trên tập Validation')"
      ]
    },
    {
      "cell_type": "markdown",
      "metadata": {
        "id": "_cFaH9vgrwoO"
      },
      "source": [
        "### 3.5 Phân tích các dự đoán sai"
      ]
    },
    {
      "cell_type": "code",
      "execution_count": 22,
      "metadata": {
        "id": "2PZOLmEjr2_v"
      },
      "outputs": [],
      "source": [
        "# Hàm in ra các dự đoán sai\n",
        "def analyze_errors(y_true, y_pred, data):\n",
        "    print(\"=== PHÂN TÍCH DỰ ĐOÁN SAI ===\")\n",
        "    # In ra 5 email ham bị đoán SAI là spam (False Positives)\n",
        "    fp_indices = [i for i, (true, pred) in enumerate(zip(y_true, y_pred)) if true == 'ham' and pred == 'spam']\n",
        "    print(f\"\\n--- {len(fp_indices)} False Positives (Ham -> Spam) ---\")\n",
        "    for i in fp_indices[:5]:\n",
        "        print(f\"Email {i}:\")\n",
        "        print(f\"  Subject: \\\"{data.iloc[i]['Subject']}\\\"\")\n",
        "        print(f\"  Message: \\\"{str(data.iloc[i]['Message'])[:50]}...\\\"\")\n",
        "    print(\"-\" * 50)\n",
        "\n",
        "    # In ra 5 email spam bị đoán SAI là ham (False Negatives)\n",
        "    fn_indices = [i for i, (true, pred) in enumerate(zip(y_true, y_pred)) if true == 'spam' and pred == 'ham']\n",
        "    print(f\"\\n--- {len(fn_indices)} False Negatives (Spam -> Ham) ---\")\n",
        "    for i in fn_indices[:5]:\n",
        "        print(f\"Email {i}:\")\n",
        "        print(f\"  Subject: \\\"{data.iloc[i]['Subject']}\\\"\")\n",
        "        print(f\"  Message: \\\"{str(data.iloc[i]['Message'])[:50]}...\\\"\")\n",
        "    print(\"-\" * 50)"
      ]
    },
    {
      "cell_type": "code",
      "execution_count": 23,
      "metadata": {
        "colab": {
          "base_uri": "https://localhost:8080/"
        },
        "id": "1GuH7eFcr-Ks",
        "outputId": "2d5f58d6-1ca3-40e3-84d9-84833438de58"
      },
      "outputs": [
        {
          "output_type": "stream",
          "name": "stdout",
          "text": [
            "=== PHÂN TÍCH DỰ ĐOÁN SAI ===\n",
            "\n",
            "--- 15 False Positives (Ham -> Spam) ---\n",
            "Email 26:\n",
            "  Subject: \"valentines day help\"\n",
            "  Message: \"red - neck valentine ' s love poem\n",
            "collards is gre...\"\n",
            "Email 48:\n",
            "  Subject: \"wassup - south park\"\n",
            "  Message: \"- wassupsouthparkl . exe...\"\n",
            "Email 58:\n",
            "  Subject: \"registration confirmation - my yahoo !\"\n",
            "  Message: \"account information\n",
            "help\n",
            "do not reply to this mess...\"\n",
            "Email 295:\n",
            "  Subject: \"freedom ? ? ?\"\n",
            "  Message: \"bammelyoungfamilies\n",
            "- - - - - - - - - - - - - - - ...\"\n",
            "Email 314:\n",
            "  Subject: \"fw : i am # 470\"\n",
            "  Message: \"i have felt a renewed heart for god , a fresh spir...\"\n",
            "--------------------------------------------------\n",
            "\n",
            "--- 16 False Negatives (Spam -> Ham) ---\n",
            "Email 357:\n",
            "  Subject: \"re : no more injections\"\n",
            "  Message: \"...\"\n",
            "Email 463:\n",
            "  Subject: \"one more time\"\n",
            "  Message: \"sent bring electric . look , picture language . be...\"\n",
            "Email 1519:\n",
            "  Subject: \"peter g [ tour dates ]\"\n",
            "  Message: \"tour dates\n",
            "friday 8 th - regua open air\n",
            "saturday 9...\"\n",
            "Email 1710:\n",
            "  Subject: \"ever have a cherry pop\"\n",
            "  Message: \"please\n",
            "remove me\n",
            "...\"\n",
            "Email 1804:\n",
            "  Subject: \"all alone ? need somoene to talk to ?\"\n",
            "  Message: \"...\"\n",
            "--------------------------------------------------\n"
          ]
        }
      ],
      "source": [
        "analyze_errors(y_val, val_predictions, val_data)"
      ]
    },
    {
      "cell_type": "markdown",
      "source": [
        "####  Phân tích lỗi phân loại\n",
        "\n",
        "**Chi tiết:**\n",
        "- False Positive Rate: 15/1523 = 0.98% (ham → spam)\n",
        "- False Negative Rate: 16/1561 = 1.03% (spam → ham)\n",
        "- Balanced accuracy: 98.99%\n",
        "\n",
        "**Ý nghĩa:** Model có xu hướng cân bằng giữa 2 loại lỗi, phù hợp cho ứng dụng thực tế."
      ],
      "metadata": {
        "id": "7d7gFP5mlYcd"
      }
    },
    {
      "cell_type": "markdown",
      "metadata": {
        "id": "7KC-DdpUaHNz"
      },
      "source": [
        "## 4. Thử nghiệm thực tế"
      ]
    },
    {
      "cell_type": "markdown",
      "metadata": {
        "id": "Pz8ILhBaaHNz"
      },
      "source": [
        "### 4.1 Chức năng 1: Dự đoán email người dùng nhập"
      ]
    },
    {
      "cell_type": "code",
      "execution_count": 24,
      "metadata": {
        "id": "1xo17wHEaHNz"
      },
      "outputs": [],
      "source": [
        "def predict_user_email():\n",
        "    \"\"\"\n",
        "    Cho phép người dùng nhập email và dự đoán spam/ham\n",
        "    \"\"\"\n",
        "    print(\"=== DỰ ĐOÁN EMAIL NHẬP THỦ CÔNG ===\")\n",
        "    subject = input(\"Nhập tiêu đề email: \")\n",
        "    message = input(\"Nhập nội dung email: \")\n",
        "\n",
        "    # Tiền xử lý\n",
        "    predict_text = preprocess_text({'Subject': subject, 'Message': message})\n",
        "\n",
        "    # Dự đoán\n",
        "    prediction, log_probs = nb_classifier._predict_single(predict_text)\n",
        "\n",
        "    # Tính xác suất\n",
        "    max_log_prob = max(log_probs.values())\n",
        "    exp_probs = {c: math.exp(log_prob - max_log_prob)\n",
        "                for c, log_prob in log_probs.items()}\n",
        "    total = sum(exp_probs.values())\n",
        "    probs = {c: exp_prob / total for c, exp_prob in exp_probs.items()}\n",
        "\n",
        "    print(f\"\\nKết quả dự đoán: {prediction.upper()}\")\n",
        "    print(f\"Xác suất spam: {probs['spam']:.4f}\")\n",
        "    print(f\"Xác suất ham: {probs['ham']:.4f}\")\n",
        "\n",
        "    return prediction, probs"
      ]
    },
    {
      "cell_type": "code",
      "execution_count": 25,
      "metadata": {
        "colab": {
          "base_uri": "https://localhost:8080/"
        },
        "id": "_Uc5-mllaHN0",
        "outputId": "4e162417-00c9-47c0-e419-d44647e136c7"
      },
      "outputs": [
        {
          "output_type": "stream",
          "name": "stdout",
          "text": [
            "=== DỰ ĐOÁN EMAIL NHẬP THỦ CÔNG ===\n",
            "Nhập tiêu đề email: 50% offf Iphone 16\n",
            "Nhập nội dung email: Only for today\n",
            "\n",
            "Kết quả dự đoán: SPAM\n",
            "Xác suất spam: 0.9914\n",
            "Xác suất ham: 0.0086\n"
          ]
        }
      ],
      "source": [
        "# Test\n",
        "prediction, probs = predict_user_email()"
      ]
    },
    {
      "cell_type": "markdown",
      "metadata": {
        "id": "73b3ld3VaHN0"
      },
      "source": [
        "### 4.2 Chức năng 2: Đánh giá file CSV\n"
      ]
    },
    {
      "cell_type": "code",
      "execution_count": 26,
      "metadata": {
        "id": "iuExLxrfaHN0"
      },
      "outputs": [],
      "source": [
        "def evaluate_csv_file(filename, model):\n",
        "    \"\"\"\n",
        "    Đọc và đánh giá mô hình trên file CSV\n",
        "    File CSV cần có cấu trúc giống val.csv\n",
        "    \"\"\"\n",
        "    print(f\"=== ĐÁNH GIÁ DỰ ĐOÁN FILE: {filename} ===\")\n",
        "\n",
        "    try:\n",
        "        # Đọc file\n",
        "        data = pd.read_csv(filename,  on_bad_lines='skip', engine='python')\n",
        "        print(f\"\\nĐã đọc {len(data)} dòng từ file\")\n",
        "\n",
        "        # Kiểm tra cấu trúc\n",
        "        required_cols = ['Subject', 'Message', 'Spam/Ham']\n",
        "        if not all(col in data.columns for col in required_cols):\n",
        "            print(\"\\nLỗi: File không có đủ các cột cần thiết!\")\n",
        "            print(f\" - Cần có: {required_cols}\")\n",
        "            print(f\" - File có: {list(data.columns)}\")\n",
        "            return\n",
        "\n",
        "        # Clean data\n",
        "        clean_data(data)\n",
        "\n",
        "        # Tiền xử lý\n",
        "        data['processed_text'] = data.apply(preprocess_text, axis=1)\n",
        "\n",
        "        # Dự đoán\n",
        "        X_test = data['processed_text'].values\n",
        "        y_test = data['Spam/Ham'].values\n",
        "        predictions, _ = model.predict(X_test)\n",
        "\n",
        "        # Đánh giá\n",
        "        accuracy, metrics = evaluate_model(y_test, predictions)\n",
        "\n",
        "        print(f\"\\nKết quả đánh giá:\")\n",
        "        print(f\" - Accuracy: {accuracy:.4f}\")\n",
        "\n",
        "        for c in metrics:\n",
        "            m = metrics[c]\n",
        "            print(f\"\\n - Lớp '{c}':\")\n",
        "            print(f\"   + Precision: {m['precision']:.4f}\")\n",
        "            print(f\"   + Recall: {m['recall']:.4f}\")\n",
        "            print(f\"   + F1-score: {m['f1']:.4f}\")\n",
        "\n",
        "    except Exception as e:\n",
        "        print(f\"Lỗi khi đọc file: {e}\")"
      ]
    },
    {
      "cell_type": "code",
      "execution_count": 27,
      "metadata": {
        "colab": {
          "base_uri": "https://localhost:8080/"
        },
        "id": "KaRLBM_xaHN0",
        "outputId": "205bb676-c522-4412-db4f-6fba3a78a264"
      },
      "outputs": [
        {
          "output_type": "stream",
          "name": "stdout",
          "text": [
            "=== ĐÁNH GIÁ DỰ ĐOÁN FILE: val.csv ===\n",
            "\n",
            "Đã đọc 3084 dòng từ file\n",
            "\n",
            "Kết quả đánh giá:\n",
            " - Accuracy: 0.9899\n",
            "\n",
            " - Lớp 'spam':\n",
            "   + Precision: 0.9904\n",
            "   + Recall: 0.9898\n",
            "   + F1-score: 0.9901\n",
            "\n",
            " - Lớp 'ham':\n",
            "   + Precision: 0.9895\n",
            "   + Recall: 0.9901\n",
            "   + F1-score: 0.9898\n"
          ]
        }
      ],
      "source": [
        "# Test với tập val\n",
        "evaluate_csv_file('val.csv', model = nb_classifier)"
      ]
    },
    {
      "cell_type": "markdown",
      "metadata": {
        "id": "1d80Tq9haHN1"
      },
      "source": [
        "## 5. Phân tích và cải thiện\n"
      ]
    },
    {
      "cell_type": "markdown",
      "metadata": {
        "id": "hmZk-cwiaHN1"
      },
      "source": [
        "### 5.1 Phân tích các từ quan trọng\n"
      ]
    },
    {
      "cell_type": "code",
      "execution_count": 28,
      "metadata": {
        "id": "K55UhmxkaHN1"
      },
      "outputs": [],
      "source": [
        "def get_top_words_per_class(n=20):\n",
        "    print(f\"=== TOP {n} TỪ QUAN TRỌNG CHO MỖI LỚP ===\")\n",
        "\n",
        "    for c in nb_classifier.classes:\n",
        "        # Lấy log odds ratio: log(P(word|class)) - log(P(word|not_class))\n",
        "        word_scores = {}\n",
        "\n",
        "        for word in nb_classifier.vocab:\n",
        "            if word in nb_classifier.word_probs[c]:\n",
        "                # Log probability của từ trong lớp hiện tại\n",
        "                log_prob_c = math.log(nb_classifier.word_probs[c][word])\n",
        "\n",
        "                # Log probability trung bình của từ trong các lớp khác\n",
        "                other_classes = [cls for cls in nb_classifier.classes if cls != c]\n",
        "                avg_log_prob_other = sum(math.log(nb_classifier.word_probs[cls].get(word,\n",
        "                                                  nb_classifier.word_probs[cls]['<UNK>']))\n",
        "                                        for cls in other_classes) / len(other_classes)\n",
        "\n",
        "                # Score = difference\n",
        "                word_scores[word] = log_prob_c - avg_log_prob_other\n",
        "\n",
        "        # Sắp xếp và lấy top n\n",
        "        top_words = sorted(word_scores.items(), key=lambda x: x[1], reverse=True)[:n]\n",
        "\n",
        "        # visualize\n",
        "        print(f\"\\nLớp '{c}':\")\n",
        "        visualize_top_words(top_words, c)"
      ]
    },
    {
      "cell_type": "code",
      "execution_count": 29,
      "metadata": {
        "colab": {
          "base_uri": "https://localhost:8080/",
          "height": 1000
        },
        "id": "G30TW3l5aHN2",
        "outputId": "50026d6a-925f-4c54-d94e-973b9fbec5b0"
      },
      "outputs": [
        {
          "output_type": "stream",
          "name": "stdout",
          "text": [
            "=== TOP 10 TỪ QUAN TRỌNG CHO MỖI LỚP ===\n",
            "\n",
            "Lớp 'spam':\n"
          ]
        },
        {
          "output_type": "display_data",
          "data": {
            "text/plain": [
              "<Figure size 1000x800 with 1 Axes>"
            ],
            "image/png": "[encoded data removed]"
          },
          "metadata": {}
        },
        {
          "output_type": "stream",
          "name": "stdout",
          "text": [
            "\n",
            "Lớp 'ham':\n"
          ]
        },
        {
          "output_type": "display_data",
          "data": {
            "text/plain": [
              "<Figure size 1000x800 with 1 Axes>"
            ],
            "image/png": "[encoded data removed]"
          },
          "metadata": {}
        }
      ],
      "source": [
        "get_top_words_per_class(10)"
      ]
    },
    {
      "cell_type": "markdown",
      "metadata": {
        "id": "fKm0uLBWaHN2"
      },
      "source": [
        "### 5.2 Grid Search cho hyperparameter tuning\n",
        "\n",
        "Thử nghiệm với các giá trị alpha để tìm tham số tối ưu\n",
        "\n"
      ]
    },
    {
      "cell_type": "code",
      "execution_count": 30,
      "metadata": {
        "colab": {
          "base_uri": "https://localhost:8080/"
        },
        "id": "drm_1yP4aHN2",
        "outputId": "9a7af937-c000-4ca6-f786-25a0b50cfca1"
      },
      "outputs": [
        {
          "output_type": "stream",
          "name": "stdout",
          "text": [
            "=== THỬ NGHIỆM VỚI CÁC GIÁ TRỊ ALPHA KHÁC NHAU ===\n",
            "\n",
            "==================================================\n",
            "                   Alpha = 0.1\n",
            "==================================================\n",
            "Bắt đầu huấn luyện mô hình:\n",
            "\n",
            " - Các tham số:\n",
            "  + Alpha: 0.1\n",
            "  + Tokenizer: tokenizer_with_bigrams\n",
            "\n",
            " - Tính prior probability...\n",
            "  + P(spam) = 0.5079\n",
            "  + P(ham) = 0.4921\n",
            "\n",
            " - Đang đếm từ để xây dựng vocabulary...\n",
            "  + Tổng số từ duy nhất ban đầu: 1347153\n",
            "  + Kích thước từ vựng sau khi lọc (xuất hiện >= 3 lần): 301678\n",
            "\n",
            " - Tính likelihood với Laplace smoothing...\n",
            "\n",
            " - Lớp spam: 3116685 từ (trong vocab)\n",
            "\n",
            " - Lớp ham: 3423359 từ (trong vocab)\n",
            "\n",
            "Huấn luyện hoàn tất!\n",
            "Validation Accuracy: 0.9899\n",
            "\n",
            "\n",
            "==================================================\n",
            "                   Alpha = 0.5\n",
            "==================================================\n",
            "Bắt đầu huấn luyện mô hình:\n",
            "\n",
            " - Các tham số:\n",
            "  + Alpha: 0.5\n",
            "  + Tokenizer: tokenizer_with_bigrams\n",
            "\n",
            " - Tính prior probability...\n",
            "  + P(spam) = 0.5079\n",
            "  + P(ham) = 0.4921\n",
            "\n",
            " - Đang đếm từ để xây dựng vocabulary...\n",
            "  + Tổng số từ duy nhất ban đầu: 1347153\n",
            "  + Kích thước từ vựng sau khi lọc (xuất hiện >= 3 lần): 301678\n",
            "\n",
            " - Tính likelihood với Laplace smoothing...\n",
            "\n",
            " - Lớp spam: 3116685 từ (trong vocab)\n",
            "\n",
            " - Lớp ham: 3423359 từ (trong vocab)\n",
            "\n",
            "Huấn luyện hoàn tất!\n",
            "Validation Accuracy: 0.9890\n",
            "\n",
            "\n",
            "==================================================\n",
            "                   Alpha = 1.0\n",
            "==================================================\n",
            "Bắt đầu huấn luyện mô hình:\n",
            "\n",
            " - Các tham số:\n",
            "  + Alpha: 1.0\n",
            "  + Tokenizer: tokenizer_with_bigrams\n",
            "\n",
            " - Tính prior probability...\n",
            "  + P(spam) = 0.5079\n",
            "  + P(ham) = 0.4921\n",
            "\n",
            " - Đang đếm từ để xây dựng vocabulary...\n",
            "  + Tổng số từ duy nhất ban đầu: 1347153\n",
            "  + Kích thước từ vựng sau khi lọc (xuất hiện >= 3 lần): 301678\n",
            "\n",
            " - Tính likelihood với Laplace smoothing...\n",
            "\n",
            " - Lớp spam: 3116685 từ (trong vocab)\n",
            "\n",
            " - Lớp ham: 3423359 từ (trong vocab)\n",
            "\n",
            "Huấn luyện hoàn tất!\n",
            "Validation Accuracy: 0.9887\n",
            "\n",
            "\n",
            "==================================================\n",
            "                   Alpha = 2.0\n",
            "==================================================\n",
            "Bắt đầu huấn luyện mô hình:\n",
            "\n",
            " - Các tham số:\n",
            "  + Alpha: 2.0\n",
            "  + Tokenizer: tokenizer_with_bigrams\n",
            "\n",
            " - Tính prior probability...\n",
            "  + P(spam) = 0.5079\n",
            "  + P(ham) = 0.4921\n",
            "\n",
            " - Đang đếm từ để xây dựng vocabulary...\n",
            "  + Tổng số từ duy nhất ban đầu: 1347153\n",
            "  + Kích thước từ vựng sau khi lọc (xuất hiện >= 3 lần): 301678\n",
            "\n",
            " - Tính likelihood với Laplace smoothing...\n",
            "\n",
            " - Lớp spam: 3116685 từ (trong vocab)\n",
            "\n",
            " - Lớp ham: 3423359 từ (trong vocab)\n",
            "\n",
            "Huấn luyện hoàn tất!\n",
            "Validation Accuracy: 0.9893\n",
            "\n",
            "\n",
            "==================================================\n",
            "                   Alpha = 5.0\n",
            "==================================================\n",
            "Bắt đầu huấn luyện mô hình:\n",
            "\n",
            " - Các tham số:\n",
            "  + Alpha: 5.0\n",
            "  + Tokenizer: tokenizer_with_bigrams\n",
            "\n",
            " - Tính prior probability...\n",
            "  + P(spam) = 0.5079\n",
            "  + P(ham) = 0.4921\n",
            "\n",
            " - Đang đếm từ để xây dựng vocabulary...\n",
            "  + Tổng số từ duy nhất ban đầu: 1347153\n",
            "  + Kích thước từ vựng sau khi lọc (xuất hiện >= 3 lần): 301678\n",
            "\n",
            " - Tính likelihood với Laplace smoothing...\n",
            "\n",
            " - Lớp spam: 3116685 từ (trong vocab)\n",
            "\n",
            " - Lớp ham: 3423359 từ (trong vocab)\n",
            "\n",
            "Huấn luyện hoàn tất!\n",
            "Validation Accuracy: 0.9887\n",
            "\n",
            "\n"
          ]
        }
      ],
      "source": [
        "print(\"=== THỬ NGHIỆM VỚI CÁC GIÁ TRỊ ALPHA KHÁC NHAU ===\\n\")\n",
        "\n",
        "# Các threshold được tạo thủ công\n",
        "alphas = [0.1, 0.5, 1.0, 2.0, 5.0]\n",
        "results = []\n",
        "\n",
        "for alpha in alphas:\n",
        "    print(\"=\" * 50)\n",
        "    print(\" \" * 19 + f\"Alpha = {alpha}\")\n",
        "    print(\"=\" * 50)\n",
        "\n",
        "    # Train model với alpha mới\n",
        "    nb_temp = NaiveBayesClassifier(alpha=alpha, tokenizer=tokenizer_with_bigrams)\n",
        "    nb_temp.fit(X_train, y_train)\n",
        "\n",
        "    # Đánh giá\n",
        "    val_pred, _ = nb_temp.predict(X_val)\n",
        "    accuracy, _ = evaluate_model(y_val, val_pred)\n",
        "\n",
        "    # In kết quả\n",
        "    results.append({'alpha': alpha, 'accuracy': accuracy})\n",
        "    print(f\"Validation Accuracy: {accuracy:.4f}\")\n",
        "    print(\"\\n\")"
      ]
    },
    {
      "cell_type": "code",
      "execution_count": 31,
      "metadata": {
        "colab": {
          "base_uri": "https://localhost:8080/",
          "height": 656
        },
        "id": "W1nV52P1etvG",
        "outputId": "d92a9ea4-c2d2-4a2f-8811-482470d6c978"
      },
      "outputs": [
        {
          "output_type": "display_data",
          "data": {
            "text/plain": [
              "<Figure size 1200x700 with 1 Axes>"
            ],
            "image/png": "[encoded data removed]"
          },
          "metadata": {}
        }
      ],
      "source": [
        "# visualize\n",
        "visualize_alpha_performance(results)"
      ]
    },
    {
      "cell_type": "code",
      "execution_count": 32,
      "metadata": {
        "colab": {
          "base_uri": "https://localhost:8080/"
        },
        "id": "e0P_rK1j_F4t",
        "outputId": "2d65ab3e-c22e-4cb1-d4c4-0b686b7381df"
      },
      "outputs": [
        {
          "output_type": "stream",
          "name": "stdout",
          "text": [
            "\n",
            "Alpha tốt nhất là 0.1 với accuracy: 0.9899\n"
          ]
        }
      ],
      "source": [
        "# Tìm alpha tốt nhất\n",
        "best_result = max(results, key=lambda x: x['accuracy'])\n",
        "print(f\"\\nAlpha tốt nhất là {best_result['alpha']} với accuracy: {best_result['accuracy']:.4f}\")"
      ]
    },
    {
      "cell_type": "markdown",
      "source": [
        "#### Kết luận từ thử nghiệm alpha:\n",
        "\n",
        "- Alpha = 0.1 cho kết quả tốt nhất (98.99% accuracy)\n",
        "- Alpha quá lớn (>2.0) làm giảm performance\n",
        "- Model khá stable với alpha trong khoảng 0.1-1.0"
      ],
      "metadata": {
        "id": "4bhW9g2kmIgE"
      }
    },
    {
      "cell_type": "markdown",
      "source": [
        "### 5.3 Áp dụng alpha tối ưu tìm được"
      ],
      "metadata": {
        "id": "bKz8OVcrmKqF"
      }
    },
    {
      "cell_type": "code",
      "execution_count": 33,
      "metadata": {
        "colab": {
          "base_uri": "https://localhost:8080/"
        },
        "id": "B_1cxjS1hTUQ",
        "outputId": "caffe7bc-7916-41cb-963b-9004878d24a7"
      },
      "outputs": [
        {
          "output_type": "stream",
          "name": "stdout",
          "text": [
            "=== ÁP DỤNG ALPHA TỐT NHẤT ===\n",
            "\n",
            "Đã thay thế alpha tốt nhất: 0.1\n",
            "\n",
            "Đã chuẩn bị dữ liệu full\n",
            "Kích thước tập train full: 30368\n",
            "\n",
            "Bắt đầu huấn luyện mô hình:\n",
            "\n",
            " - Các tham số:\n",
            "  + Alpha: 0.1\n",
            "  + Tokenizer: tokenizer_with_bigrams\n",
            "\n",
            " - Tính prior probability...\n",
            "  + P(spam) = 0.5078\n",
            "  + P(ham) = 0.4922\n",
            "\n",
            " - Đang đếm từ để xây dựng vocabulary...\n",
            "  + Tổng số từ duy nhất ban đầu: 1445038\n",
            "  + Kích thước từ vựng sau khi lọc (xuất hiện >= 3 lần): 333333\n",
            "\n",
            " - Tính likelihood với Laplace smoothing...\n",
            "\n",
            " - Lớp spam: 3510947 từ (trong vocab)\n",
            "\n",
            " - Lớp ham: 3844883 từ (trong vocab)\n",
            "\n",
            "Huấn luyện hoàn tất!\n"
          ]
        },
        {
          "output_type": "execute_result",
          "data": {
            "text/plain": [
              "<__main__.NaiveBayesClassifier at 0x7882dc81b590>"
            ]
          },
          "metadata": {},
          "execution_count": 33
        }
      ],
      "source": [
        "# áp dụng alpha tốt nhất\n",
        "print(\"=== ÁP DỤNG ALPHA TỐT NHẤT ===\")\n",
        "nb_classifier.alpha = best_result['alpha']\n",
        "print(f\"\\nĐã thay thế alpha tốt nhất: {nb_classifier.alpha}\")\n",
        "\n",
        "# Chuẩn bị dữ liệu full gồm train + val\n",
        "X_train_full = pd.concat([train_data, val_data])['processed_text'].values\n",
        "y_train_full = pd.concat([train_data, val_data])['Spam/Ham'].values\n",
        "print(\"\\nĐã chuẩn bị dữ liệu full\")\n",
        "print(f\"Kích thước tập train full: {len(X_train_full)}\\n\")\n",
        "\n",
        "# Huấn luyện lại mô hình\n",
        "nb_classifier.fit(X_train_full, y_train_full)"
      ]
    },
    {
      "cell_type": "markdown",
      "metadata": {
        "id": "OQLu3aiBaHN2"
      },
      "source": [
        "## 6. Thử nghiệm thực tế với mô hình tốt nhất"
      ]
    },
    {
      "cell_type": "markdown",
      "metadata": {
        "id": "qZ57z0Z5Gx_R"
      },
      "source": [
        "### 6.1 Test với các email mẫu"
      ]
    },
    {
      "cell_type": "code",
      "execution_count": 34,
      "metadata": {
        "id": "atZliJKCaHN2"
      },
      "outputs": [],
      "source": [
        "test_emails = [\n",
        "    {\n",
        "        'subject': 'Congratulations! You have won 1 million dollars',\n",
        "        'message': 'Click here now to claim your prize. Limited time offer!'\n",
        "    },\n",
        "    {\n",
        "        'subject': 'Project Team Meeting',\n",
        "        'message': 'Hi team, we will have a meeting tomorrow at 2 PM to discuss the project progress.'\n",
        "    },\n",
        "    {\n",
        "        'subject': '90% OFF - BUY NOW',\n",
        "        'message': 'Special promotion for today only! Buy now or you will miss out!!!'\n",
        "    }\n",
        "]"
      ]
    },
    {
      "cell_type": "code",
      "execution_count": 35,
      "metadata": {
        "colab": {
          "base_uri": "https://localhost:8080/"
        },
        "id": "7oK8kkYPaHN3",
        "outputId": "0333b406-f9a1-4a40-bc60-10a70b4461f0"
      },
      "outputs": [
        {
          "output_type": "stream",
          "name": "stdout",
          "text": [
            "=== TEST VỚI CÁC EMAIL MẪU ===\n",
            "\n",
            "Email 1:\n",
            "Tiêu đề: \"Congratulations! You have won 1 million dollars\"\n",
            "Nội dung: \"Click here now to claim your prize. Limited time offer!...\"\n",
            "Dự đoán: SPAM\n",
            "Xác suất:\n",
            "  - spam: 1.0000\n",
            "  - ham: 0.0000\n",
            "\n",
            "Email 2:\n",
            "Tiêu đề: \"Project Team Meeting\"\n",
            "Nội dung: \"Hi team, we will have a meeting tomorrow at 2 PM to discuss the project progress....\"\n",
            "Dự đoán: HAM\n",
            "Xác suất:\n",
            "  - spam: 0.0000\n",
            "  - ham: 1.0000\n",
            "\n",
            "Email 3:\n",
            "Tiêu đề: \"90% OFF - BUY NOW\"\n",
            "Nội dung: \"Special promotion for today only! Buy now or you will miss out!!!...\"\n",
            "Dự đoán: SPAM\n",
            "Xác suất:\n",
            "  - spam: 0.9985\n",
            "  - ham: 0.0015\n"
          ]
        }
      ],
      "source": [
        "print(\"=== TEST VỚI CÁC EMAIL MẪU ===\")\n",
        "for i, email in enumerate(test_emails, 1):\n",
        "    print(f\"\\nEmail {i}:\")\n",
        "    print(f\"Tiêu đề: \\\"{email['subject']}\\\"\")\n",
        "    print(f\"Nội dung: \\\"{email['message'][:100]}...\\\"\")\n",
        "\n",
        "    # Tiền xử lý và dự đoán\n",
        "    predict_text = preprocess_text({'Subject': email['subject'], 'Message': email['message']})\n",
        "    prediction, log_pros = nb_classifier._predict_single(predict_text)\n",
        "\n",
        "    print(f\"Dự đoán: {prediction.upper()}\")\n",
        "\n",
        "    max_log_prob = max(log_pros.values())\n",
        "    exp_probs = {c: math.exp(log_prob - max_log_prob) for c, log_prob in log_pros.items()}\n",
        "    total = sum(exp_probs.values())\n",
        "    final_probs = {c: exp_prob / total for c, exp_prob in exp_probs.items()}\n",
        "\n",
        "    print(f\"Xác suất:\")\n",
        "    print(f\"  - spam: {final_probs.get('spam', 0):.4f}\")\n",
        "    print(f\"  - ham: {final_probs.get('ham', 0):.4f}\")"
      ]
    },
    {
      "cell_type": "markdown",
      "metadata": {
        "id": "T8slKRQ1G6Mh"
      },
      "source": [
        "### 6.2 Test với 2 chức năng"
      ]
    },
    {
      "cell_type": "markdown",
      "source": [
        "#### Chức năng 1"
      ],
      "metadata": {
        "id": "IjiXmU43oqPC"
      }
    },
    {
      "cell_type": "code",
      "execution_count": 36,
      "metadata": {
        "colab": {
          "base_uri": "https://localhost:8080/"
        },
        "id": "qKdX_oimHiZS",
        "outputId": "34bcd49c-1aa9-4859-8817-b4a39eb6839c"
      },
      "outputs": [
        {
          "output_type": "stream",
          "name": "stdout",
          "text": [
            "=== DỰ ĐOÁN EMAIL NHẬP THỦ CÔNG ===\n",
            "Nhập tiêu đề email: Final Exam\n",
            "Nhập nội dung email: 19th July, 9AM\n",
            "\n",
            "Kết quả dự đoán: HAM\n",
            "Xác suất spam: 0.0035\n",
            "Xác suất ham: 0.9965\n"
          ]
        }
      ],
      "source": [
        "# Test email người dùng nhập vào\n",
        "prediction, probs = predict_user_email()"
      ]
    },
    {
      "cell_type": "markdown",
      "source": [
        "#### Chức năng 2"
      ],
      "metadata": {
        "id": "vhLFEIbrosQI"
      }
    },
    {
      "cell_type": "code",
      "execution_count": 37,
      "metadata": {
        "colab": {
          "base_uri": "https://localhost:8080/"
        },
        "id": "EwduiDqRHwAP",
        "outputId": "cd8f000a-2640-4187-e669-30ec516c37ea"
      },
      "outputs": [
        {
          "output_type": "stream",
          "name": "stdout",
          "text": [
            "Nhập tên file CSV cần đánh giá: val.csv\n",
            "\n",
            "\n",
            "=== ĐÁNH GIÁ DỰ ĐOÁN FILE: val.csv ===\n",
            "\n",
            "Đã đọc 3084 dòng từ file\n",
            "\n",
            "Kết quả đánh giá:\n",
            " - Accuracy: 0.9942\n",
            "\n",
            " - Lớp 'spam':\n",
            "   + Precision: 0.9942\n",
            "   + Recall: 0.9942\n",
            "   + F1-score: 0.9942\n",
            "\n",
            " - Lớp 'ham':\n",
            "   + Precision: 0.9941\n",
            "   + Recall: 0.9941\n",
            "   + F1-score: 0.9941\n"
          ]
        }
      ],
      "source": [
        "# Test trên tập dữ liệu\n",
        "file = input(\"Nhập tên file CSV cần đánh giá: \")\n",
        "print(\"\\n\")\n",
        "\n",
        "evaluate_csv_file(file, model = nb_classifier)"
      ]
    },
    {
      "cell_type": "markdown",
      "metadata": {
        "id": "0kLIegdIaHN3"
      },
      "source": [
        "## 7. Kết luận\n"
      ]
    },
    {
      "cell_type": "code",
      "execution_count": 38,
      "metadata": {
        "colab": {
          "base_uri": "https://localhost:8080/"
        },
        "id": "vjvzKSDnaHN3",
        "outputId": "4d36379b-2c61-45c0-e8cb-b73bc500a405"
      },
      "outputs": [
        {
          "output_type": "stream",
          "name": "stdout",
          "text": [
            "==================================================\n",
            "   TÓM TẮT CHI TIẾT NOTEBOOK PHÂN LOẠI THƯ RÁC \n",
            "==================================================\n",
            "\n",
            "1. Dữ liệu (Data)\n",
            "--------------------------------------------------\n",
            "\t- Dữ liệu được chia thành 2 tệp để huấn luyện và đánh giá:\n",
            "\t\t+ train.csv: 27284 email\n",
            "\t\t+ val.csv: 3084 email\n",
            "\n",
            "2. Quy trình xử lý và Xây dựng mô hình\n",
            "--------------------------------------------------\n",
            "\n",
            "\tBước 1: Tiền xử lý văn bản\n",
            "\t\t- Kết hợp dữ liệu: Gộp nội dung từ 'Subject' và 'Message'.\n",
            "\t\t- Trích xuất đặc trưng (Feature Engineering): Tạo các token đặc trưng như '__FEAT_HIGH_CAPS__', '__FEAT_MANY_DIGITS__', ...\n",
            "\t\t- Chuẩn hóa văn bản: Chuyển về chữ thường, loại bỏ các ký tự đặc biệt.\n",
            "\n",
            "\tBước 2: Xây dựng mô hình và Tokenization\n",
            "\t\t- Tokenization: Loại bỏ stop words, thực hiện Stemming và tạo Unigrams + Bigrams (cặp từ).\n",
            "\t\t- Pruning: Chỉ giữ lại các token có tần suất xuất hiện >= 3 lần (kích thước từ vựng cuối cùng: 333333).\n",
            "\n",
            "\tBước 3: Tối ưu hóa hyperparameter\n",
            "\t\t- Thử nghiệm các giá trị alpha trên tập validation để tìm ra giá trị hiệu quả nhất.\n",
            "\n",
            "3. Mô hình tốt nhất\n",
            "--------------------------------------------------\n",
            "\t- Tham số alpha tối ưu = 0.1.\n",
            "\t- Hiệu suất đạt được:\n",
            "\t\t+ Accuracy trên tập Train: 99.63%\n",
            "\t\t+ Accuracy trên tập Validation: 98.99%\n",
            "\n",
            "4. Các chức năng chính\n",
            "--------------------------------------------------\n",
            "\t- Chức năng 1: Cho phép người dùng nhập vào email thủ công và dự đoán spam/ham.\n",
            "\t- Chức năng 2: Đánh giá hiệu suất của mô hình trên một tệp .csv bất kỳ.\n"
          ]
        }
      ],
      "source": [
        "print(\"=\"*50)\n",
        "print(\"   TÓM TẮT CHI TIẾT NOTEBOOK PHÂN LOẠI THƯ RÁC \")\n",
        "print(\"=\"*50)\n",
        "\n",
        "print(\"\\n1. Dữ liệu (Data)\")\n",
        "print(\"--------------------------------------------------\")\n",
        "print(\"\\t- Dữ liệu được chia thành 2 tệp để huấn luyện và đánh giá:\")\n",
        "print(f\"\\t\\t+ train.csv: {len(train_data)} email\")\n",
        "print(f\"\\t\\t+ val.csv: {len(val_data)} email\")\n",
        "\n",
        "print(\"\\n2. Quy trình xử lý và Xây dựng mô hình\")\n",
        "print(\"--------------------------------------------------\")\n",
        "print(\"\\n\\tBước 1: Tiền xử lý văn bản\")\n",
        "print(\"\\t\\t- Kết hợp dữ liệu: Gộp nội dung từ 'Subject' và 'Message'.\")\n",
        "print(\"\\t\\t- Trích xuất đặc trưng (Feature Engineering): Tạo các token đặc trưng như '__FEAT_HIGH_CAPS__', '__FEAT_MANY_DIGITS__', ...\")\n",
        "print(\"\\t\\t- Chuẩn hóa văn bản: Chuyển về chữ thường, loại bỏ các ký tự đặc biệt.\")\n",
        "\n",
        "print(\"\\n\\tBước 2: Xây dựng mô hình và Tokenization\")\n",
        "print(\"\\t\\t- Tokenization: Loại bỏ stop words, thực hiện Stemming và tạo Unigrams + Bigrams (cặp từ).\")\n",
        "print(f\"\\t\\t- Pruning: Chỉ giữ lại các token có tần suất xuất hiện >= 3 lần (kích thước từ vựng cuối cùng: {len(nb_classifier.vocab)}).\")\n",
        "\n",
        "print(\"\\n\\tBước 3: Tối ưu hóa hyperparameter\")\n",
        "print(\"\\t\\t- Thử nghiệm các giá trị alpha trên tập validation để tìm ra giá trị hiệu quả nhất.\")\n",
        "\n",
        "print(\"\\n3. Mô hình tốt nhất\")\n",
        "print(\"--------------------------------------------------\")\n",
        "print(f\"\\t- Tham số alpha tối ưu = {best_result['alpha']}.\")\n",
        "print(\"\\t- Hiệu suất đạt được:\")\n",
        "print(f\"\\t\\t+ Accuracy trên tập Train: {train_accuracy:.2%}\")\n",
        "print(f\"\\t\\t+ Accuracy trên tập Validation: {val_accuracy:.2%}\")\n",
        "\n",
        "print(\"\\n4. Các chức năng chính\")\n",
        "print(\"--------------------------------------------------\")\n",
        "print(\"\\t- Chức năng 1: Cho phép người dùng nhập vào email thủ công và dự đoán spam/ham.\")\n",
        "print(\"\\t- Chức năng 2: Đánh giá hiệu suất của mô hình trên một tệp .csv bất kỳ.\")"
      ]
    }
  ],
  "metadata": {
    "accelerator": "GPU",
    "colab": {
      "gpuType": "T4",
      "provenance": []
    },
    "kernelspec": {
      "display_name": "Python 3",
      "name": "python3"
    },
    "language_info": {
      "name": "python"
    }
  },
  "nbformat": 4,
  "nbformat_minor": 0
}